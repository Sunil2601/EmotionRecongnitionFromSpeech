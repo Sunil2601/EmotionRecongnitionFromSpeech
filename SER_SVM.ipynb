{
  "nbformat": 4,
  "nbformat_minor": 0,
  "metadata": {
    "colab": {
      "name": "SER_SVM.ipynb",
      "provenance": [],
      "collapsed_sections": [
        "0kWl4SbrtiUP"
      ]
    },
    "kernelspec": {
      "name": "python3",
      "display_name": "Python 3"
    }
  },
  "cells": [
    {
      "cell_type": "code",
      "metadata": {
        "id": "1LWT3AufOyCv",
        "colab": {
          "base_uri": "https://localhost:8080/"
        },
        "outputId": "39e69b10-b936-4401-9db5-df2b46b05cbd"
      },
      "source": [
        "from google.colab import drive\n",
        "drive.mount('/content/drive')"
      ],
      "execution_count": null,
      "outputs": [
        {
          "output_type": "stream",
          "name": "stdout",
          "text": [
            "Drive already mounted at /content/drive; to attempt to forcibly remount, call drive.mount(\"/content/drive\", force_remount=True).\n"
          ]
        }
      ]
    },
    {
      "cell_type": "code",
      "metadata": {
        "id": "VZWf5RDrO8Ta"
      },
      "source": [
        "import pandas as pd\n",
        "import numpy as np"
      ],
      "execution_count": null,
      "outputs": []
    },
    {
      "cell_type": "code",
      "metadata": {
        "id": "5JBkWhfnQQDt",
        "colab": {
          "base_uri": "https://localhost:8080/"
        },
        "outputId": "48e26fc1-acf8-4a9a-9e2a-7be0845356fe"
      },
      "source": [
        "import time\n",
        "\n",
        "starting_time = time.time()\n",
        "data = pd.read_csv('/content/drive/My Drive/Datasets/RAVTESS_MFCC_Observed.csv')\n",
        "print(\"data loaded in \" + str(time.time()-starting_time) + \"ms\")\n",
        "\n",
        "print(data.head())"
      ],
      "execution_count": null,
      "outputs": [
        {
          "output_type": "stream",
          "name": "stdout",
          "text": [
            "data loaded in 0.6133420467376709ms\n",
            "   Unnamed: 0           0          1          2          3          4  \\\n",
            "0        1537 -488.365326  37.609653 -42.837009   3.497457 -21.856796   \n",
            "1        1243 -646.848450  47.253029  -9.483804  11.356429  -9.566895   \n",
            "2        1350 -421.139435  13.276498 -23.904438   7.155144 -12.144909   \n",
            "3         543 -628.711365  72.378426   2.581744  20.044861   9.244960   \n",
            "4         384 -763.833313  53.155815   7.208836  11.725616  -8.644038   \n",
            "\n",
            "           5          6          7          8  ...        31        32  \\\n",
            "0 -14.550998 -15.364143 -16.100733 -15.626115  ...  1.492740 -0.139887   \n",
            "1  -1.743241  -7.154823  -5.100847  -8.959340  ...  1.306401  1.551446   \n",
            "2   2.151048 -12.111196 -11.993875 -11.787158  ...  0.157885  2.355101   \n",
            "3   9.402345   9.138960  -2.912063  -9.278966  ... -0.339788  1.039505   \n",
            "4   1.663892  -3.258222  -8.480853 -11.303131  ... -1.295047  0.680879   \n",
            "\n",
            "         33        34        35        36        37        38        39  \\\n",
            "0  1.250768  2.129715  2.703170 -0.210909 -1.814964 -0.245484  0.526075   \n",
            "1  3.916276  4.702019  6.885222  3.173791  2.696996  1.610294  0.000498   \n",
            "2  3.930888  2.624743  1.891181  0.198606 -0.142664  0.447088  1.287924   \n",
            "3 -0.060651 -0.952548 -1.424802 -0.933949 -1.275389 -1.322576 -1.325075   \n",
            "4  5.452803  5.846729  6.703602  4.521292  2.268695  1.644766  1.213379   \n",
            "\n",
            "   emotion  \n",
            "0    happy  \n",
            "1     calm  \n",
            "2     fear  \n",
            "3  neutral  \n",
            "4  neutral  \n",
            "\n",
            "[5 rows x 42 columns]\n"
          ]
        }
      ]
    },
    {
      "cell_type": "code",
      "metadata": {
        "id": "Gnn24ErtQXIM",
        "colab": {
          "base_uri": "https://localhost:8080/"
        },
        "outputId": "d068933f-ba4a-453f-817a-38b7857a897b"
      },
      "source": [
        "data.shape"
      ],
      "execution_count": null,
      "outputs": [
        {
          "output_type": "execute_result",
          "data": {
            "text/plain": [
              "(5690, 42)"
            ]
          },
          "metadata": {},
          "execution_count": 4
        }
      ]
    },
    {
      "cell_type": "code",
      "metadata": {
        "id": "6UlGjAhtlhl2",
        "colab": {
          "base_uri": "https://localhost:8080/"
        },
        "outputId": "b39d8422-3703-46fb-cfaa-59f1aaebd051"
      },
      "source": [
        "#printing all columns\n",
        "data.columns"
      ],
      "execution_count": null,
      "outputs": [
        {
          "output_type": "execute_result",
          "data": {
            "text/plain": [
              "Index(['Unnamed: 0', '0', '1', '2', '3', '4', '5', '6', '7', '8', '9', '10',\n",
              "       '11', '12', '13', '14', '15', '16', '17', '18', '19', '20', '21', '22',\n",
              "       '23', '24', '25', '26', '27', '28', '29', '30', '31', '32', '33', '34',\n",
              "       '35', '36', '37', '38', '39', 'emotion'],\n",
              "      dtype='object')"
            ]
          },
          "metadata": {},
          "execution_count": 5
        }
      ]
    },
    {
      "cell_type": "code",
      "metadata": {
        "id": "7T9PgDj1luY1"
      },
      "source": [
        "#dropping the column Unnamed: 0 to removed shuffled index\n",
        "data = data.drop('Unnamed: 0',axis=1)"
      ],
      "execution_count": null,
      "outputs": []
    },
    {
      "cell_type": "code",
      "metadata": {
        "id": "9XYzHT00l1vu",
        "colab": {
          "base_uri": "https://localhost:8080/"
        },
        "outputId": "72b1617c-2756-49e1-f28b-30c883055531"
      },
      "source": [
        "data.columns"
      ],
      "execution_count": null,
      "outputs": [
        {
          "output_type": "execute_result",
          "data": {
            "text/plain": [
              "Index(['0', '1', '2', '3', '4', '5', '6', '7', '8', '9', '10', '11', '12',\n",
              "       '13', '14', '15', '16', '17', '18', '19', '20', '21', '22', '23', '24',\n",
              "       '25', '26', '27', '28', '29', '30', '31', '32', '33', '34', '35', '36',\n",
              "       '37', '38', '39', 'emotion'],\n",
              "      dtype='object')"
            ]
          },
          "metadata": {},
          "execution_count": 7
        }
      ]
    },
    {
      "cell_type": "code",
      "metadata": {
        "id": "dFz_djRCj8-7"
      },
      "source": [
        "#separating features and target outputs\n",
        "X = data.drop('emotion', axis = 1).values\n",
        "y = data['emotion'].values"
      ],
      "execution_count": null,
      "outputs": []
    },
    {
      "cell_type": "markdown",
      "metadata": {
        "id": "gmyFS7Ajj4PZ"
      },
      "source": [
        "## SVM\n",
        "\n",
        "Implementing SVM with Scikit-Learn"
      ]
    },
    {
      "cell_type": "code",
      "metadata": {
        "id": "pq5mN2XzkAj_"
      },
      "source": [
        "import pandas as pd\n",
        "import numpy as np\n",
        "import matplotlib.pyplot as plt\n",
        "%matplotlib inline"
      ],
      "execution_count": null,
      "outputs": []
    },
    {
      "cell_type": "code",
      "metadata": {
        "id": "4j5u2-2YkEce",
        "colab": {
          "base_uri": "https://localhost:8080/"
        },
        "outputId": "f5e0596a-fa1f-4a1e-c535-5f1e981f5c22"
      },
      "source": [
        "X.shape, y.shape"
      ],
      "execution_count": null,
      "outputs": [
        {
          "output_type": "execute_result",
          "data": {
            "text/plain": [
              "((5690, 40), (5690,))"
            ]
          },
          "metadata": {},
          "execution_count": 10
        }
      ]
    },
    {
      "cell_type": "code",
      "metadata": {
        "id": "rzaQWvXjkG6a",
        "colab": {
          "base_uri": "https://localhost:8080/"
        },
        "outputId": "0bd69bca-a6c6-4349-8005-f309968858b1"
      },
      "source": [
        "np.unique(y)"
      ],
      "execution_count": null,
      "outputs": [
        {
          "output_type": "execute_result",
          "data": {
            "text/plain": [
              "array(['angry', 'calm', 'disgust', 'fear', 'happy', 'neutral', 'sad',\n",
              "       'surprised'], dtype=object)"
            ]
          },
          "metadata": {},
          "execution_count": 11
        }
      ]
    },
    {
      "cell_type": "markdown",
      "metadata": {
        "id": "qFIOIBCmkOof"
      },
      "source": [
        "X variable contains attributes while y variable contains corresponding labels.\n",
        "\n",
        "Once the data is divided into attributes and labels, the final preprocessing step is to divide data into training and test sets. The model_selection library of the Scikit-Learn library contains the train_test_split method that allows us to divide data into training and test sets."
      ]
    },
    {
      "cell_type": "code",
      "metadata": {
        "id": "y-rWEbnjkI3z"
      },
      "source": [
        "from sklearn.model_selection import train_test_split\n",
        "\n",
        "X_train, X_test, y_train, y_test = train_test_split(X, y, test_size = 0.20)"
      ],
      "execution_count": null,
      "outputs": []
    },
    {
      "cell_type": "markdown",
      "metadata": {
        "id": "2jBVxf-ZkTSd"
      },
      "source": [
        "It is the time to train our SVM on the training data. Scikit-Learn contains the svm library, which contains built-in classes for different SVM algorithms. Since we are going to perform a classification task, we will use the support vector classifier class, which is written as SVC in the Scikit-Learn's svm library. We have set the kernel to linear."
      ]
    },
    {
      "cell_type": "code",
      "metadata": {
        "id": "viKFlbezkSll"
      },
      "source": [
        "from sklearn.svm import SVC\n",
        "\n",
        "svclassifier = SVC(kernel = 'linear')"
      ],
      "execution_count": null,
      "outputs": []
    },
    {
      "cell_type": "markdown",
      "metadata": {
        "id": "obFMZPWqIs3C"
      },
      "source": [
        "The fit method of SVC class is called to train the algorithm on the training data, which is passed as a parameter to the fit method. Execute the following code to train the algorithm:"
      ]
    },
    {
      "cell_type": "code",
      "metadata": {
        "id": "LZnkHUkZkX1A",
        "colab": {
          "base_uri": "https://localhost:8080/"
        },
        "outputId": "db8443a1-99d9-4d43-d82d-0e96bbaa262a"
      },
      "source": [
        "import time\n",
        "\n",
        "starting_time = time.time()\n",
        "svclassifier.fit(X_train, y_train)\n",
        "print(\"Trained model in %s ms \" % str(time.time() - starting_time))"
      ],
      "execution_count": null,
      "outputs": [
        {
          "output_type": "stream",
          "name": "stdout",
          "text": [
            "Trained model in 136.46617674827576 ms \n"
          ]
        }
      ]
    },
    {
      "cell_type": "markdown",
      "metadata": {
        "id": "KXvzYeXYkaMb"
      },
      "source": [
        "To make predictions, the predict method of the SVC class is used."
      ]
    },
    {
      "cell_type": "code",
      "metadata": {
        "id": "pUad4lXgkdZR"
      },
      "source": [
        "y_pred = svclassifier.predict(X_test)"
      ],
      "execution_count": null,
      "outputs": []
    },
    {
      "cell_type": "markdown",
      "metadata": {
        "id": "dRd8zm49kfwn"
      },
      "source": [
        "Confusion matrix, precision, recall, and F1 measures are the most commonly used metrics for classification tasks. Scikit-Learn's metrics library contains the classification_report and confusion_matrix methods, which can be readily used to find out the values for these important metrics.\n",
        "We have used the following code for finding these metrics:"
      ]
    },
    {
      "cell_type": "code",
      "metadata": {
        "id": "6qfbWKKzku_Z",
        "colab": {
          "base_uri": "https://localhost:8080/",
          "height": 544
        },
        "outputId": "5434c3c1-afc4-4e54-d4b0-dcedc621e4a4"
      },
      "source": [
        "from sklearn.metrics import classification_report, confusion_matrix,accuracy_score\n",
        "import seaborn as sn\n",
        "\n",
        "print(classification_report(y_test,y_pred))\n",
        "\n",
        "acc = float(accuracy_score(y_test,y_pred))*100\n",
        "print(\"----accuracy score %s ----\" % acc)\n",
        "\n",
        "cm = confusion_matrix(y_test,y_pred)\n",
        "df_cm = pd.DataFrame(cm)\n",
        "sn.heatmap(df_cm, annot=True, fmt='')\n",
        "plt.show()"
      ],
      "execution_count": null,
      "outputs": [
        {
          "output_type": "stream",
          "name": "stdout",
          "text": [
            "              precision    recall  f1-score   support\n",
            "\n",
            "       angry       0.77      0.80      0.78       152\n",
            "        calm       0.56      0.71      0.62        78\n",
            "     disgust       0.67      0.69      0.68       169\n",
            "        fear       0.70      0.76      0.73       149\n",
            "       happy       0.63      0.68      0.66       148\n",
            "     neutral       0.75      0.77      0.76       116\n",
            "         sad       0.81      0.67      0.73       168\n",
            "   surprised       0.69      0.56      0.62       158\n",
            "\n",
            "    accuracy                           0.70      1138\n",
            "   macro avg       0.70      0.70      0.70      1138\n",
            "weighted avg       0.71      0.70      0.70      1138\n",
            "\n",
            "----accuracy score 70.03514938488577 ----\n"
          ]
        },
        {
          "output_type": "display_data",
          "data": {
            "text/plain": [
              "<Figure size 432x288 with 2 Axes>"
            ],
            "image/png": "[encoded data removed]"
          },
          "metadata": {
            "needs_background": "light"
          }
        }
      ]
    },
    {
      "cell_type": "markdown",
      "metadata": {
        "id": "XADzC5Cbkx6a"
      },
      "source": [
        "Now by calculating the training accuracy and comparing with testing accuracy, we can check for overfitting of data"
      ]
    },
    {
      "cell_type": "code",
      "metadata": {
        "id": "cPupL1MfjMVQ",
        "colab": {
          "base_uri": "https://localhost:8080/"
        },
        "outputId": "777e4631-fd8c-4631-f81c-e14f059d5ede"
      },
      "source": [
        "train_acc = float(svclassifier.score(X_train, y_train)*100)\n",
        "print(\"----train accuracy score %s ----\" % train_acc)\n",
        "\n",
        "test_acc = float(svclassifier.score(X_test, y_test)*100)\n",
        "print(\"----test accuracy score %s ----\" % test_acc)"
      ],
      "execution_count": null,
      "outputs": [
        {
          "output_type": "stream",
          "name": "stdout",
          "text": [
            "----train accuracy score 73.98945518453426 ----\n",
            "----test accuracy score 70.03514938488577 ----\n"
          ]
        }
      ]
    },
    {
      "cell_type": "markdown",
      "metadata": {
        "id": "0kWl4SbrtiUP"
      },
      "source": [
        "## Cross-Validation"
      ]
    },
    {
      "cell_type": "markdown",
      "metadata": {
        "id": "SIsvihdMJDYO"
      },
      "source": [
        "5-fold cross validation of the dataset with the SVM classifier."
      ]
    },
    {
      "cell_type": "code",
      "metadata": {
        "id": "K8JwrWJ_k6qN",
        "colab": {
          "base_uri": "https://localhost:8080/"
        },
        "outputId": "ede0efc8-bb79-4872-f810-7f16ffcaec3d"
      },
      "source": [
        "from sklearn.model_selection import cross_val_score\n",
        "\n",
        "# no. of folds cv = 5\n",
        "cv_results = cross_val_score(svclassifier, X, y, cv = 5)\n",
        "print(cv_results)"
      ],
      "execution_count": null,
      "outputs": [
        {
          "output_type": "stream",
          "name": "stdout",
          "text": [
            "[0.68541301 0.68980668 0.6827768  0.68453427 0.71880492]\n"
          ]
        }
      ]
    },
    {
      "cell_type": "markdown",
      "metadata": {
        "id": "1x2ICDUKtows"
      },
      "source": [
        "## Scaling \n",
        "\n",
        "When performing the linear SVM classification, it is often helpful to normalize the training data, for example by subtracting the mean and dividing by the standard deviation, and afterwards scale the test data with the mean and standard deviation of training data."
      ]
    },
    {
      "cell_type": "code",
      "metadata": {
        "id": "OKhK1aW_trnZ",
        "colab": {
          "base_uri": "https://localhost:8080/"
        },
        "outputId": "eef13442-ec47-4348-8a12-df04997b2ae5"
      },
      "source": [
        "from sklearn.model_selection import train_test_split\n",
        "from sklearn.preprocessing import StandardScaler\n",
        "from sklearn.pipeline import Pipeline\n",
        "from sklearn.svm import SVC\n",
        "\n",
        "\n",
        "#splitting dataset into train/ test sets\n",
        "X_train, X_test, y_train, y_test = train_test_split(X, y, test_size = 0.20)\n",
        "\n",
        "# Setup the pipeline steps: steps\n",
        "steps = [('scaler', StandardScaler()),\n",
        "        ('SVM', SVC())]\n",
        "        \n",
        "# Create the pipeline: pipeline\n",
        "pipeline = Pipeline(steps)\n",
        "\n",
        "# Fit the pipeline to the training set: svc_scaled\n",
        "svc_scaled = pipeline.fit(X_train, y_train)\n",
        "\n",
        "# Instantiate and fit a classifier to the unscaled data\n",
        "svc_unscaled = SVC(kernel = 'linear').fit(X_train, y_train)\n",
        "\n",
        "# Compute and print metrics\n",
        "print('Accuracy with Scaling: {}'.format(svc_scaled.score(X_test, y_test)))\n",
        "print('Accuracy without Scaling: {}'.format(svc_unscaled.score(X_test, y_test)))\n"
      ],
      "execution_count": null,
      "outputs": [
        {
          "output_type": "stream",
          "name": "stdout",
          "text": [
            "Accuracy with Scaling: 0.8014059753954306\n",
            "Accuracy without Scaling: 0.6924428822495606\n"
          ]
        }
      ]
    },
    {
      "cell_type": "markdown",
      "metadata": {
        "id": "9bxO_NYuUJpN"
      },
      "source": [
        "### Generalization check\n",
        "Checking for overfitting or underfitting by comparing the training and testing scores of the model"
      ]
    },
    {
      "cell_type": "code",
      "metadata": {
        "id": "Ve1e2yVBivNT",
        "colab": {
          "base_uri": "https://localhost:8080/"
        },
        "outputId": "a1e6bf40-1dc7-45bb-d078-660db3b38f92"
      },
      "source": [
        "train_acc = float(svc_scaled.score(X_train, y_train)*100)\n",
        "print(\"----train accuracy score %s ----\" % train_acc)\n",
        "\n",
        "test_acc = float(svc_scaled.score(X_test, y_test)*100)\n",
        "print(\"----test accuracy score %s ----\" % test_acc)"
      ],
      "execution_count": null,
      "outputs": [
        {
          "output_type": "stream",
          "name": "stdout",
          "text": [
            "----train accuracy score 86.00615114235501 ----\n",
            "----test accuracy score 80.14059753954305 ----\n"
          ]
        }
      ]
    },
    {
      "cell_type": "code",
      "metadata": {
        "id": "JkMV4nVo2MBi"
      },
      "source": [
        "scaled_predictions = svc_scaled.predict(X_test)"
      ],
      "execution_count": null,
      "outputs": []
    },
    {
      "cell_type": "markdown",
      "metadata": {
        "id": "r_56D7h6WkOE"
      },
      "source": [
        "### Classification reports and Confusion Matrix"
      ]
    },
    {
      "cell_type": "code",
      "metadata": {
        "id": "oROt3FvXwMHK",
        "colab": {
          "base_uri": "https://localhost:8080/",
          "height": 543
        },
        "outputId": "350b82fa-0e0e-4e37-e822-779ae2d6bfd6"
      },
      "source": [
        "from sklearn.metrics import classification_report, confusion_matrix,accuracy_score\n",
        "import seaborn as sn\n",
        "\n",
        "print(classification_report(y_test,scaled_predictions))\n",
        "\n",
        "acc = float(accuracy_score(y_test,scaled_predictions))*100\n",
        "print(\"----accuracy score %s ----\" % acc)\n",
        "\n",
        "cm = confusion_matrix(y_test,scaled_predictions)\n",
        "df_cm = pd.DataFrame(cm)\n",
        "sn.heatmap(df_cm, annot=True, fmt='')\n",
        "plt.show()"
      ],
      "execution_count": null,
      "outputs": [
        {
          "output_type": "stream",
          "name": "stdout",
          "text": [
            "              precision    recall  f1-score   support\n",
            "\n",
            "       angry       0.95      0.89      0.92       161\n",
            "        calm       0.52      0.89      0.66        82\n",
            "     disgust       0.74      0.77      0.75       141\n",
            "        fear       0.80      0.79      0.79       150\n",
            "       happy       0.84      0.77      0.81       140\n",
            "     neutral       0.96      0.73      0.83       144\n",
            "         sad       0.84      0.77      0.81       183\n",
            "   surprised       0.78      0.84      0.81       137\n",
            "\n",
            "    accuracy                           0.80      1138\n",
            "   macro avg       0.80      0.81      0.80      1138\n",
            "weighted avg       0.82      0.80      0.81      1138\n",
            "\n",
            "----accuracy score 80.14059753954305 ----\n"
          ]
        },
        {
          "output_type": "display_data",
          "data": {
            "text/plain": [
              "<Figure size 432x288 with 2 Axes>"
            ],
            "image/png": "[encoded data removed]"
          },
          "metadata": {
            "needs_background": "light"
          }
        }
      ]
    },
    {
      "cell_type": "markdown",
      "metadata": {
        "id": "k7ay4Mx3WvIN"
      },
      "source": [
        "#### Cross Validation"
      ]
    },
    {
      "cell_type": "code",
      "metadata": {
        "id": "Yqo9QIL82ez-",
        "colab": {
          "base_uri": "https://localhost:8080/"
        },
        "outputId": "d9dcc296-023b-4bc2-bd87-638bbf7eff55"
      },
      "source": [
        "from sklearn.model_selection import cross_val_score\n",
        "\n",
        "# no. of folds cv = 5\n",
        "cv_results = cross_val_score(svc_scaled, X, y, cv = 5)\n",
        "print(cv_results)"
      ],
      "execution_count": null,
      "outputs": [
        {
          "output_type": "stream",
          "name": "stdout",
          "text": [
            "[0.81107206 0.81546573 0.82425308 0.82952548 0.8198594 ]\n"
          ]
        }
      ]
    },
    {
      "cell_type": "code",
      "metadata": {
        "id": "C7Qsgs0H8Ijx"
      },
      "source": [
        ""
      ],
      "execution_count": null,
      "outputs": []
    }
  ]
}