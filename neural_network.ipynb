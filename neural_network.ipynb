{
  "nbformat": 4,
  "nbformat_minor": 0,
  "metadata": {
    "colab": {
      "name": "neural network.ipynb",
      "provenance": [],
      "collapsed_sections": []
    },
    "kernelspec": {
      "name": "python3",
      "display_name": "Python 3"
    }
  },
  "cells": [
    {
      "cell_type": "markdown",
      "metadata": {
        "id": "CjWvnaQUrZmD"
      },
      "source": [
        "# Speech Emotion Recognition using the RAVDESS AND TESS dataset"
      ]
    },
    {
      "cell_type": "markdown",
      "metadata": {
        "id": "uxVUuvOQnG_H"
      },
      "source": [
        "For this task, I have used 5252 samples from\n",
        "\n",
        "the Ryerson Audio-Visual Database of Emotional Speech and Song (RAVDESS) dataset\n",
        "the Toronto emotional speech set (TESS) dataset\n",
        "The samples include:\n",
        "\n",
        "**1440 **speech files and **1012** Song files from **RAVDESS**. This dataset includes recordings of 24 professional actors (12 female, 12 male), vocalizing two lexically-matched statements in a neutral North American accent. Speech includes calm, happy, sad, angry, fearful, surprise, and disgust expressions, and song contains calm, happy, sad, angry, and fearful emotions. Each file was rated 10 times on emotional validity, intensity, and genuineness. Ratings were provided by 247 individuals who were characteristic of untrained adult research participants from North America. A further set of 72 participants provided test-retest data. High levels of emotional validity, interrater reliability, and test-retest intrarater reliability were reported. Validation data is open-access, and can be downloaded along with our paper from PLoS ONE.\n",
        "\n",
        "**2800** files from **TESS**. A set of 200 target words were spoken in the carrier phrase \"Say the word _____' by two actresses (aged 26 and 64 years) and recordings were made of the set portraying each of seven emotions (anger, disgust, fear, happiness, pleasant surprise, sadness, and neutral). There are 2800 stimuli in total. Two actresses were recruited from the Toronto area. Both actresses speak English as their first language, are university educated, and have musical training. Audiometric testing indicated that both actresses have thresholds within the normal range."
      ]
    },
    {
      "cell_type": "markdown",
      "metadata": {
        "id": "9tXShPTZno76"
      },
      "source": [
        "Mounting Drive so that we can access the contents directly from the drive"
      ]
    },
    {
      "cell_type": "code",
      "metadata": {
        "id": "o94IYrgInXFX",
        "colab": {
          "base_uri": "https://localhost:8080/"
        },
        "outputId": "7752a668-4da5-4704-d172-02a152cc1995"
      },
      "source": [
        "from google.colab import drive\n",
        "drive.mount('/content/drive')"
      ],
      "execution_count": null,
      "outputs": [
        {
          "output_type": "stream",
          "name": "stdout",
          "text": [
            "Mounted at /content/drive\n"
          ]
        }
      ]
    },
    {
      "cell_type": "markdown",
      "metadata": {
        "id": "67STjT5On4Wf"
      },
      "source": [
        "Importing Librosa library(A python package) for extracting important features of the audio like the pitch,tone."
      ]
    },
    {
      "cell_type": "code",
      "metadata": {
        "id": "N3b7x9shnZwp",
        "colab": {
          "base_uri": "https://localhost:8080/"
        },
        "outputId": "aff48ff2-a914-4b97-9921-c370f7e68233"
      },
      "source": [
        "!pip install librosa"
      ],
      "execution_count": null,
      "outputs": [
        {
          "output_type": "stream",
          "name": "stdout",
          "text": [
            "Requirement already satisfied: librosa in /usr/local/lib/python3.7/dist-packages (0.8.1)\n",
            "Requirement already satisfied: joblib>=0.14 in /usr/local/lib/python3.7/dist-packages (from librosa) (1.1.0)\n",
            "Requirement already satisfied: scikit-learn!=0.19.0,>=0.14.0 in /usr/local/lib/python3.7/dist-packages (from librosa) (1.0.2)\n",
            "Requirement already satisfied: packaging>=20.0 in /usr/local/lib/python3.7/dist-packages (from librosa) (21.3)\n",
            "Requirement already satisfied: soundfile>=0.10.2 in /usr/local/lib/python3.7/dist-packages (from librosa) (0.10.3.post1)\n",
            "Requirement already satisfied: numba>=0.43.0 in /usr/local/lib/python3.7/dist-packages (from librosa) (0.51.2)\n",
            "Requirement already satisfied: numpy>=1.15.0 in /usr/local/lib/python3.7/dist-packages (from librosa) (1.21.6)\n",
            "Requirement already satisfied: pooch>=1.0 in /usr/local/lib/python3.7/dist-packages (from librosa) (1.6.0)\n",
            "Requirement already satisfied: scipy>=1.0.0 in /usr/local/lib/python3.7/dist-packages (from librosa) (1.4.1)\n",
            "Requirement already satisfied: decorator>=3.0.0 in /usr/local/lib/python3.7/dist-packages (from librosa) (4.4.2)\n",
            "Requirement already satisfied: resampy>=0.2.2 in /usr/local/lib/python3.7/dist-packages (from librosa) (0.2.2)\n",
            "Requirement already satisfied: audioread>=2.0.0 in /usr/local/lib/python3.7/dist-packages (from librosa) (2.1.9)\n",
            "Requirement already satisfied: setuptools in /usr/local/lib/python3.7/dist-packages (from numba>=0.43.0->librosa) (57.4.0)\n",
            "Requirement already satisfied: llvmlite<0.35,>=0.34.0.dev0 in /usr/local/lib/python3.7/dist-packages (from numba>=0.43.0->librosa) (0.34.0)\n",
            "Requirement already satisfied: pyparsing!=3.0.5,>=2.0.2 in /usr/local/lib/python3.7/dist-packages (from packaging>=20.0->librosa) (3.0.8)\n",
            "Requirement already satisfied: appdirs>=1.3.0 in /usr/local/lib/python3.7/dist-packages (from pooch>=1.0->librosa) (1.4.4)\n",
            "Requirement already satisfied: requests>=2.19.0 in /usr/local/lib/python3.7/dist-packages (from pooch>=1.0->librosa) (2.23.0)\n",
            "Requirement already satisfied: idna<3,>=2.5 in /usr/local/lib/python3.7/dist-packages (from requests>=2.19.0->pooch>=1.0->librosa) (2.10)\n",
            "Requirement already satisfied: urllib3!=1.25.0,!=1.25.1,<1.26,>=1.21.1 in /usr/local/lib/python3.7/dist-packages (from requests>=2.19.0->pooch>=1.0->librosa) (1.24.3)\n",
            "Requirement already satisfied: chardet<4,>=3.0.2 in /usr/local/lib/python3.7/dist-packages (from requests>=2.19.0->pooch>=1.0->librosa) (3.0.4)\n",
            "Requirement already satisfied: certifi>=2017.4.17 in /usr/local/lib/python3.7/dist-packages (from requests>=2.19.0->pooch>=1.0->librosa) (2021.10.8)\n",
            "Requirement already satisfied: six>=1.3 in /usr/local/lib/python3.7/dist-packages (from resampy>=0.2.2->librosa) (1.15.0)\n",
            "Requirement already satisfied: threadpoolctl>=2.0.0 in /usr/local/lib/python3.7/dist-packages (from scikit-learn!=0.19.0,>=0.14.0->librosa) (3.1.0)\n",
            "Requirement already satisfied: cffi>=1.0 in /usr/local/lib/python3.7/dist-packages (from soundfile>=0.10.2->librosa) (1.15.0)\n",
            "Requirement already satisfied: pycparser in /usr/local/lib/python3.7/dist-packages (from cffi>=1.0->soundfile>=0.10.2->librosa) (2.21)\n"
          ]
        }
      ]
    },
    {
      "cell_type": "markdown",
      "metadata": {
        "id": "ywPJyaHHpOGE"
      },
      "source": [
        "Loading one audio file from the drive using librosa.\n",
        "Librosa loads the audio file as a floating point time series."
      ]
    },
    {
      "cell_type": "code",
      "metadata": {
        "id": "aWgCbHxAn1_h"
      },
      "source": [
        "import librosa\n",
        "from librosa import display\n",
        "\n",
        "data, sampling_rate = librosa.load('/content/drive/MyDrive/Datasets/RAVDESS/Song/Actor_01/03-01-01-01-01-01-01.wav')"
      ],
      "execution_count": null,
      "outputs": []
    },
    {
      "cell_type": "markdown",
      "metadata": {
        "id": "Vi77VvlppM5d"
      },
      "source": [
        "Plotting the audio file which was just loaded by librosa using waveplot function of librosa.This Function Plots the amplitude envelope of a waveform."
      ]
    },
    {
      "cell_type": "code",
      "metadata": {
        "id": "hZintfRxqK1A",
        "colab": {
          "base_uri": "https://localhost:8080/",
          "height": 366
        },
        "outputId": "fe21eed2-a30c-484c-a15a-abee4c1159db"
      },
      "source": [
        "% pylab inline\n",
        "import matplotlib.pyplot as plt\n",
        "\n",
        "plt.figure(figsize=(12, 4))\n",
        "librosa.display.waveplot(data, sr=sampling_rate)"
      ],
      "execution_count": null,
      "outputs": [
        {
          "output_type": "stream",
          "name": "stdout",
          "text": [
            "Populating the interactive namespace from numpy and matplotlib\n"
          ]
        },
        {
          "output_type": "stream",
          "name": "stderr",
          "text": [
            "/usr/local/lib/python3.7/dist-packages/IPython/core/magics/pylab.py:161: UserWarning: pylab import has clobbered these variables: ['display']\n",
            "`%matplotlib` prevents importing * from pylab and numpy\n",
            "  \"\\n`%matplotlib` prevents importing * from pylab and numpy\"\n"
          ]
        },
        {
          "output_type": "execute_result",
          "data": {
            "text/plain": [
              "<matplotlib.collections.PolyCollection at 0x7fdd9ed1ca50>"
            ]
          },
          "metadata": {},
          "execution_count": 6
        },
        {
          "output_type": "display_data",
          "data": {
            "text/plain": [
              "<Figure size 864x288 with 1 Axes>"
            ],
            "image/png": "[encoded data removed]"
          },
          "metadata": {
            "needs_background": "light"
          }
        }
      ]
    },
    {
      "cell_type": "markdown",
      "metadata": {
        "id": "jPKKk4wEpMMW"
      },
      "source": [
        "# Load all files\n",
        "\n",
        "We will create our numpy array extracting Mel-frequency cepstral coefficients (MFCCs), while the classes to predict will be extracted from the name of the file (see the introductory section of this notebook to see the naming convention of the files of this dataset)."
      ]
    },
    {
      "cell_type": "code",
      "metadata": {
        "id": "ZdxY8LUotJCU",
        "colab": {
          "base_uri": "https://localhost:8080/"
        },
        "outputId": "b1630423-2cc5-43cf-de8f-38af0dcfaf03"
      },
      "source": [
        "import time\n",
        "import os\n",
        "path = '/content/drive/MyDrive/Datasets/RAVDESS/Song'\n",
        "lst = []\n",
        "\n",
        "start_time = time.time()\n",
        "\n",
        "for subdir, dirs, files in os.walk(path):\n",
        "  for file in files:\n",
        "      try:\n",
        "        #Load librosa array, obtain mfcss, store the file and the mcss information in a new array\n",
        "        X, sample_rate = librosa.load(os.path.join(subdir,file), res_type='kaiser_fast')\n",
        "        mfccs = np.mean(librosa.feature.mfcc(y=X, sr=sample_rate, n_mfcc=40).T,axis=0) \n",
        "        # The instruction below converts the labels (from 1 to 8) to a series from 0 to 7\n",
        "        # This is because our predictor needs to start from 0 otherwise it will try to predict also 0.\n",
        "        file = int(file[7:8]) - 1 \n",
        "        arr = mfccs, file\n",
        "        lst.append(arr)\n",
        "      # If the file is not valid, skip it\n",
        "      except ValueError:\n",
        "        continue\n",
        "\n",
        "print(\"--- Data loaded. Loading time: %s seconds ---\" % (time.time() - start_time))"
      ],
      "execution_count": null,
      "outputs": [
        {
          "output_type": "stream",
          "name": "stdout",
          "text": [
            "--- Data loaded. Loading time: 845.6778485774994 seconds ---\n"
          ]
        }
      ]
    },
    {
      "cell_type": "code",
      "metadata": {
        "id": "Mi8NEOUItS8f"
      },
      "source": [
        "# Creating X and y: zip makes a list of all the first elements, and a list of all the second elements.\n",
        "X, y = zip(*lst)"
      ],
      "execution_count": null,
      "outputs": []
    },
    {
      "cell_type": "code",
      "metadata": {
        "id": "Gd6hsVYjukTK",
        "colab": {
          "base_uri": "https://localhost:8080/"
        },
        "outputId": "43ff9bb4-ed6d-48fc-d84f-c387080b426d"
      },
      "source": [
        "import numpy as np\n",
        "X = np.asarray(X)\n",
        "y = np.asarray(y)\n",
        "\n",
        "\n",
        "X.shape, y.shape"
      ],
      "execution_count": null,
      "outputs": [
        {
          "output_type": "execute_result",
          "data": {
            "text/plain": [
              "((2890, 40), (2890,))"
            ]
          },
          "metadata": {},
          "execution_count": 11
        }
      ]
    },
    {
      "cell_type": "code",
      "metadata": {
        "id": "hK5XIQ4hunMH"
      },
      "source": [
        "# Saving joblib files to not load them again with the loop above\n",
        "\n",
        "import joblib\n",
        "\n",
        "X_name = 'X.joblib'\n",
        "y_name = 'y.joblib'\n",
        "save_dir = '/content/drive/MyDrive'\n",
        "\n",
        "savedX = joblib.dump(X, os.path.join(save_dir, X_name))\n",
        "savedy = joblib.dump(y, os.path.join(save_dir, y_name))"
      ],
      "execution_count": null,
      "outputs": []
    },
    {
      "cell_type": "code",
      "metadata": {
        "id": "iMEMavtnu2LB"
      },
      "source": [
        "# Loading saved models\n",
        "import joblib\n",
        "X = joblib.load('/content/drive/MyDrive/X.joblib')\n",
        "y = joblib.load('/content/drive/My Drive/y.joblib')"
      ],
      "execution_count": null,
      "outputs": []
    },
    {
      "cell_type": "markdown",
      "metadata": {
        "id": "Agw-3KN1sDhh"
      },
      "source": [
        "# Decision Tree Classifier\n",
        "\n",
        "To make a first attempt in accomplishing this classification task I chose a decision tree:"
      ]
    },
    {
      "cell_type": "code",
      "metadata": {
        "id": "CR4t166IxGdi"
      },
      "source": [
        "from sklearn.model_selection import train_test_split\n",
        "\n",
        "X_train, X_test, y_train, y_test = train_test_split(X,y, test_size=0.33, random_state=42)"
      ],
      "execution_count": null,
      "outputs": []
    },
    {
      "cell_type": "code",
      "metadata": {
        "id": "L_aIVuq9xKgn"
      },
      "source": [
        "from sklearn.tree import DecisionTreeClassifier"
      ],
      "execution_count": null,
      "outputs": []
    },
    {
      "cell_type": "code",
      "metadata": {
        "id": "PRh12VK70wwh"
      },
      "source": [
        "dtree = DecisionTreeClassifier()"
      ],
      "execution_count": null,
      "outputs": []
    },
    {
      "cell_type": "code",
      "metadata": {
        "id": "jBbgNaz50zPt",
        "colab": {
          "base_uri": "https://localhost:8080/"
        },
        "outputId": "af4ae1a9-72c2-48f8-9353-8602344ab746"
      },
      "source": [
        "dtree.fit(X_train, y_train)"
      ],
      "execution_count": null,
      "outputs": [
        {
          "output_type": "execute_result",
          "data": {
            "text/plain": [
              "DecisionTreeClassifier()"
            ]
          },
          "metadata": {},
          "execution_count": 17
        }
      ]
    },
    {
      "cell_type": "code",
      "metadata": {
        "id": "xtx3jG6v01v1"
      },
      "source": [
        "predictions = dtree.predict(X_test)"
      ],
      "execution_count": null,
      "outputs": []
    },
    {
      "cell_type": "code",
      "metadata": {
        "id": "mbWRTHjm06Hn",
        "colab": {
          "base_uri": "https://localhost:8080/"
        },
        "outputId": "8b82ec30-b2b2-40be-f6dc-19635bd3402d"
      },
      "source": [
        "from sklearn.metrics import classification_report,confusion_matrix\n",
        "print(classification_report(y_test,predictions))"
      ],
      "execution_count": null,
      "outputs": [
        {
          "output_type": "stream",
          "name": "stdout",
          "text": [
            "              precision    recall  f1-score   support\n",
            "\n",
            "           0       0.79      0.84      0.81        62\n",
            "           1       0.86      0.83      0.84       118\n",
            "           2       0.76      0.76      0.76       125\n",
            "           3       0.73      0.77      0.75       123\n",
            "           4       0.79      0.82      0.80       125\n",
            "           5       0.80      0.84      0.82       123\n",
            "           6       0.80      0.70      0.75       140\n",
            "           7       0.84      0.83      0.83       138\n",
            "\n",
            "    accuracy                           0.79       954\n",
            "   macro avg       0.79      0.80      0.80       954\n",
            "weighted avg       0.80      0.79      0.79       954\n",
            "\n"
          ]
        }
      ]
    },
    {
      "cell_type": "markdown",
      "metadata": {
        "id": "t9eqMHV3S8i6"
      },
      "source": [
        "# Neural network"
      ]
    },
    {
      "cell_type": "code",
      "metadata": {
        "id": "nIhRgcH3B0gu"
      },
      "source": [
        "import numpy as np\n",
        "x_traincnn = np.expand_dims(X_train, axis=2)\n",
        "x_testcnn = np.expand_dims(X_test, axis=2)"
      ],
      "execution_count": null,
      "outputs": []
    },
    {
      "cell_type": "code",
      "metadata": {
        "id": "XRg78iarB1OI",
        "colab": {
          "base_uri": "https://localhost:8080/"
        },
        "outputId": "c5fb2187-0520-41c4-a2ae-8d7e23d26c54"
      },
      "source": [
        "x_traincnn.shape, x_testcnn.shape"
      ],
      "execution_count": null,
      "outputs": [
        {
          "output_type": "execute_result",
          "data": {
            "text/plain": [
              "((1936, 40, 1), (954, 40, 1))"
            ]
          },
          "metadata": {},
          "execution_count": 23
        }
      ]
    },
    {
      "cell_type": "code",
      "metadata": {
        "id": "LgYdhmGJB4ur",
        "colab": {
          "base_uri": "https://localhost:8080/"
        },
        "outputId": "44ead96a-a500-4ae0-e098-a5d2b3a814f1"
      },
      "source": [
        "from tensorflow import keras\n",
        "from keras import optimizers\n",
        "import numpy as np\n",
        "import matplotlib.pyplot as plt\n",
        "import tensorflow\n",
        "#import tensorflow as tf\n",
        "from keras.preprocessing import sequence\n",
        "from keras.models import Sequential\n",
        "from keras.layers import Dense, Embedding\n",
        "#from keras.utils import to_categorical\n",
        "from tensorflow.keras.utils import to_categorical\n",
        "from keras.layers import Input, Flatten, Dropout, Activation\n",
        "from keras.layers import Conv1D, MaxPooling1D\n",
        "from keras.models import Model\n",
        "from keras.callbacks import ModelCheckpoint\n",
        "\n",
        "\n",
        "\n",
        "model = Sequential()\n",
        "\n",
        "model.add(Conv1D(64, 5,padding='same',\n",
        "                 input_shape=(40,1)))\n",
        "model.add(Activation('relu'))\n",
        "model.add(Dropout(0.1))\n",
        "model.add(MaxPooling1D(pool_size=(4)))\n",
        "model.add(Conv1D(128, 5,padding='same',))\n",
        "model.add(Activation('relu'))\n",
        "model.add(Dropout(0.1))\n",
        "model.add(MaxPooling1D(pool_size=(4)))\n",
        "model.add(Conv1D(256, 5,padding='same',))\n",
        "model.add(Activation('relu'))\n",
        "model.add(Dropout(0.1))\n",
        "model.add(Flatten())\n",
        "model.add(Dense(8))\n",
        "model.add(Activation('softmax'))\n",
        "opt = keras.optimizers.RMSprop(lr=0.00005, rho=0.9, epsilon=1e-07, decay=0.0)"
      ],
      "execution_count": null,
      "outputs": [
        {
          "output_type": "stream",
          "name": "stderr",
          "text": [
            "/usr/local/lib/python3.7/dist-packages/keras/optimizer_v2/rmsprop.py:130: UserWarning: The `lr` argument is deprecated, use `learning_rate` instead.\n",
            "  super(RMSprop, self).__init__(name, **kwargs)\n"
          ]
        }
      ]
    },
    {
      "cell_type": "code",
      "metadata": {
        "id": "ImZFafVANMP_",
        "colab": {
          "base_uri": "https://localhost:8080/"
        },
        "outputId": "a338071d-aa18-418f-d459-b69179e8e6e3"
      },
      "source": [
        "model.summary()"
      ],
      "execution_count": null,
      "outputs": [
        {
          "output_type": "stream",
          "name": "stdout",
          "text": [
            "Model: \"sequential_17\"\n",
            "_________________________________________________________________\n",
            " Layer (type)                Output Shape              Param #   \n",
            "=================================================================\n",
            " conv1d_51 (Conv1D)          (None, 40, 64)            384       \n",
            "                                                                 \n",
            " activation_68 (Activation)  (None, 40, 64)            0         \n",
            "                                                                 \n",
            " dropout_51 (Dropout)        (None, 40, 64)            0         \n",
            "                                                                 \n",
            " max_pooling1d_34 (MaxPoolin  (None, 10, 64)           0         \n",
            " g1D)                                                            \n",
            "                                                                 \n",
            " conv1d_52 (Conv1D)          (None, 10, 128)           41088     \n",
            "                                                                 \n",
            " activation_69 (Activation)  (None, 10, 128)           0         \n",
            "                                                                 \n",
            " dropout_52 (Dropout)        (None, 10, 128)           0         \n",
            "                                                                 \n",
            " max_pooling1d_35 (MaxPoolin  (None, 2, 128)           0         \n",
            " g1D)                                                            \n",
            "                                                                 \n",
            " conv1d_53 (Conv1D)          (None, 2, 256)            164096    \n",
            "                                                                 \n",
            " activation_70 (Activation)  (None, 2, 256)            0         \n",
            "                                                                 \n",
            " dropout_53 (Dropout)        (None, 2, 256)            0         \n",
            "                                                                 \n",
            " flatten_17 (Flatten)        (None, 512)               0         \n",
            "                                                                 \n",
            " dense_17 (Dense)            (None, 8)                 4104      \n",
            "                                                                 \n",
            " activation_71 (Activation)  (None, 8)                 0         \n",
            "                                                                 \n",
            "=================================================================\n",
            "Total params: 209,672\n",
            "Trainable params: 209,672\n",
            "Non-trainable params: 0\n",
            "_________________________________________________________________\n"
          ]
        }
      ]
    },
    {
      "cell_type": "code",
      "metadata": {
        "id": "s8LuQtKzON7i"
      },
      "source": [
        "model.compile(loss='sparse_categorical_crossentropy',\n",
        "              optimizer=opt,\n",
        "              metrics=['accuracy'])"
      ],
      "execution_count": null,
      "outputs": []
    },
    {
      "cell_type": "code",
      "metadata": {
        "id": "cQKYfMONOow7",
        "colab": {
          "base_uri": "https://localhost:8080/"
        },
        "outputId": "b853d7e9-99a2-4628-e980-7aca046b3d42"
      },
      "source": [
        "cnnhistory=model.fit(x_traincnn, y_train, batch_size=16, epochs=200, validation_data=(x_testcnn, y_test))"
      ],
      "execution_count": null,
      "outputs": [
        {
          "output_type": "stream",
          "name": "stdout",
          "text": [
            "Epoch 1/200\n",
            "121/121 [==============================] - 4s 18ms/step - loss: 4.8258 - accuracy: 0.1260 - val_loss: 2.2579 - val_accuracy: 0.1373\n",
            "Epoch 2/200\n",
            "121/121 [==============================] - 2s 15ms/step - loss: 3.7354 - accuracy: 0.1384 - val_loss: 2.1542 - val_accuracy: 0.1939\n",
            "Epoch 3/200\n",
            "121/121 [==============================] - 2s 15ms/step - loss: 3.0037 - accuracy: 0.1643 - val_loss: 2.0791 - val_accuracy: 0.1897\n",
            "Epoch 4/200\n",
            "121/121 [==============================] - 2s 15ms/step - loss: 2.6668 - accuracy: 0.1927 - val_loss: 1.9190 - val_accuracy: 0.2589\n",
            "Epoch 5/200\n",
            "121/121 [==============================] - 2s 15ms/step - loss: 2.4010 - accuracy: 0.1932 - val_loss: 1.9250 - val_accuracy: 0.2579\n",
            "Epoch 6/200\n",
            "121/121 [==============================] - 2s 15ms/step - loss: 2.2683 - accuracy: 0.2133 - val_loss: 1.8814 - val_accuracy: 0.3061\n",
            "Epoch 7/200\n",
            "121/121 [==============================] - 2s 15ms/step - loss: 2.2064 - accuracy: 0.2097 - val_loss: 1.8964 - val_accuracy: 0.2893\n",
            "Epoch 8/200\n",
            "121/121 [==============================] - 2s 15ms/step - loss: 2.1662 - accuracy: 0.2128 - val_loss: 1.9306 - val_accuracy: 0.2075\n",
            "Epoch 9/200\n",
            "121/121 [==============================] - 2s 15ms/step - loss: 2.0583 - accuracy: 0.2350 - val_loss: 1.8754 - val_accuracy: 0.2505\n",
            "Epoch 10/200\n",
            "121/121 [==============================] - 2s 15ms/step - loss: 2.0546 - accuracy: 0.2247 - val_loss: 1.8652 - val_accuracy: 0.2966\n",
            "Epoch 11/200\n",
            "121/121 [==============================] - 2s 15ms/step - loss: 2.0056 - accuracy: 0.2335 - val_loss: 1.8479 - val_accuracy: 0.3176\n",
            "Epoch 12/200\n",
            "121/121 [==============================] - 2s 14ms/step - loss: 1.9955 - accuracy: 0.2366 - val_loss: 1.8494 - val_accuracy: 0.3281\n",
            "Epoch 13/200\n",
            "121/121 [==============================] - 2s 14ms/step - loss: 1.9434 - accuracy: 0.2526 - val_loss: 1.8515 - val_accuracy: 0.2925\n",
            "Epoch 14/200\n",
            "121/121 [==============================] - 2s 15ms/step - loss: 1.9457 - accuracy: 0.2588 - val_loss: 1.8236 - val_accuracy: 0.3113\n",
            "Epoch 15/200\n",
            "121/121 [==============================] - 2s 15ms/step - loss: 1.9251 - accuracy: 0.2634 - val_loss: 1.8137 - val_accuracy: 0.3417\n",
            "Epoch 16/200\n",
            "121/121 [==============================] - 2s 15ms/step - loss: 1.9005 - accuracy: 0.2774 - val_loss: 1.8114 - val_accuracy: 0.2998\n",
            "Epoch 17/200\n",
            "121/121 [==============================] - 2s 15ms/step - loss: 1.8703 - accuracy: 0.2862 - val_loss: 1.7957 - val_accuracy: 0.3166\n",
            "Epoch 18/200\n",
            "121/121 [==============================] - 2s 15ms/step - loss: 1.8596 - accuracy: 0.2975 - val_loss: 1.7913 - val_accuracy: 0.3239\n",
            "Epoch 19/200\n",
            "121/121 [==============================] - 2s 14ms/step - loss: 1.8579 - accuracy: 0.2820 - val_loss: 1.7659 - val_accuracy: 0.3291\n",
            "Epoch 20/200\n",
            "121/121 [==============================] - 2s 15ms/step - loss: 1.8495 - accuracy: 0.2893 - val_loss: 1.7768 - val_accuracy: 0.3302\n",
            "Epoch 21/200\n",
            "121/121 [==============================] - 2s 15ms/step - loss: 1.8356 - accuracy: 0.2924 - val_loss: 1.7573 - val_accuracy: 0.3375\n",
            "Epoch 22/200\n",
            "121/121 [==============================] - 2s 15ms/step - loss: 1.8201 - accuracy: 0.3094 - val_loss: 1.7483 - val_accuracy: 0.3543\n",
            "Epoch 23/200\n",
            "121/121 [==============================] - 2s 15ms/step - loss: 1.7969 - accuracy: 0.3089 - val_loss: 1.7271 - val_accuracy: 0.3616\n",
            "Epoch 24/200\n",
            "121/121 [==============================] - 2s 16ms/step - loss: 1.7956 - accuracy: 0.3213 - val_loss: 1.7216 - val_accuracy: 0.3857\n",
            "Epoch 25/200\n",
            "121/121 [==============================] - 2s 15ms/step - loss: 1.7701 - accuracy: 0.3182 - val_loss: 1.7206 - val_accuracy: 0.3491\n",
            "Epoch 26/200\n",
            "121/121 [==============================] - 2s 15ms/step - loss: 1.7452 - accuracy: 0.3342 - val_loss: 1.7015 - val_accuracy: 0.3637\n",
            "Epoch 27/200\n",
            "121/121 [==============================] - 2s 14ms/step - loss: 1.7613 - accuracy: 0.3383 - val_loss: 1.6885 - val_accuracy: 0.3816\n",
            "Epoch 28/200\n",
            "121/121 [==============================] - 2s 15ms/step - loss: 1.7321 - accuracy: 0.3342 - val_loss: 1.7016 - val_accuracy: 0.3616\n",
            "Epoch 29/200\n",
            "121/121 [==============================] - 2s 15ms/step - loss: 1.7381 - accuracy: 0.3430 - val_loss: 1.6682 - val_accuracy: 0.3836\n",
            "Epoch 30/200\n",
            "121/121 [==============================] - 2s 15ms/step - loss: 1.7323 - accuracy: 0.3492 - val_loss: 1.6742 - val_accuracy: 0.3543\n",
            "Epoch 31/200\n",
            "121/121 [==============================] - 2s 15ms/step - loss: 1.6986 - accuracy: 0.3662 - val_loss: 1.6648 - val_accuracy: 0.3868\n",
            "Epoch 32/200\n",
            "121/121 [==============================] - 2s 15ms/step - loss: 1.6978 - accuracy: 0.3523 - val_loss: 1.6508 - val_accuracy: 0.4025\n",
            "Epoch 33/200\n",
            "121/121 [==============================] - 2s 14ms/step - loss: 1.6993 - accuracy: 0.3518 - val_loss: 1.6888 - val_accuracy: 0.3512\n",
            "Epoch 34/200\n",
            "121/121 [==============================] - 2s 15ms/step - loss: 1.6932 - accuracy: 0.3683 - val_loss: 1.6349 - val_accuracy: 0.4088\n",
            "Epoch 35/200\n",
            "121/121 [==============================] - 2s 15ms/step - loss: 1.6681 - accuracy: 0.3833 - val_loss: 1.6414 - val_accuracy: 0.3973\n",
            "Epoch 36/200\n",
            "121/121 [==============================] - 2s 15ms/step - loss: 1.6669 - accuracy: 0.3755 - val_loss: 1.6740 - val_accuracy: 0.3543\n",
            "Epoch 37/200\n",
            "121/121 [==============================] - 2s 16ms/step - loss: 1.6471 - accuracy: 0.3812 - val_loss: 1.6028 - val_accuracy: 0.4088\n",
            "Epoch 38/200\n",
            "121/121 [==============================] - 2s 15ms/step - loss: 1.6641 - accuracy: 0.3786 - val_loss: 1.6376 - val_accuracy: 0.3795\n",
            "Epoch 39/200\n",
            "121/121 [==============================] - 2s 15ms/step - loss: 1.6317 - accuracy: 0.3755 - val_loss: 1.5892 - val_accuracy: 0.4172\n",
            "Epoch 40/200\n",
            "121/121 [==============================] - 2s 15ms/step - loss: 1.6219 - accuracy: 0.3951 - val_loss: 1.6000 - val_accuracy: 0.4161\n",
            "Epoch 41/200\n",
            "121/121 [==============================] - 2s 15ms/step - loss: 1.6152 - accuracy: 0.4008 - val_loss: 1.6084 - val_accuracy: 0.3983\n",
            "Epoch 42/200\n",
            "121/121 [==============================] - 2s 15ms/step - loss: 1.6096 - accuracy: 0.3910 - val_loss: 1.5767 - val_accuracy: 0.4057\n",
            "Epoch 43/200\n",
            "121/121 [==============================] - 2s 15ms/step - loss: 1.6170 - accuracy: 0.3946 - val_loss: 1.5989 - val_accuracy: 0.4057\n",
            "Epoch 44/200\n",
            "121/121 [==============================] - 2s 15ms/step - loss: 1.5922 - accuracy: 0.4050 - val_loss: 1.5808 - val_accuracy: 0.4319\n",
            "Epoch 45/200\n",
            "121/121 [==============================] - 2s 15ms/step - loss: 1.5868 - accuracy: 0.4158 - val_loss: 1.5783 - val_accuracy: 0.4245\n",
            "Epoch 46/200\n",
            "121/121 [==============================] - 2s 16ms/step - loss: 1.5706 - accuracy: 0.4101 - val_loss: 1.5657 - val_accuracy: 0.4224\n",
            "Epoch 47/200\n",
            "121/121 [==============================] - 2s 15ms/step - loss: 1.5768 - accuracy: 0.4168 - val_loss: 1.5625 - val_accuracy: 0.4057\n",
            "Epoch 48/200\n",
            "121/121 [==============================] - 2s 15ms/step - loss: 1.5733 - accuracy: 0.4153 - val_loss: 1.5467 - val_accuracy: 0.4486\n",
            "Epoch 49/200\n",
            "121/121 [==============================] - 2s 16ms/step - loss: 1.5474 - accuracy: 0.4385 - val_loss: 1.5324 - val_accuracy: 0.4455\n",
            "Epoch 50/200\n",
            "121/121 [==============================] - 2s 15ms/step - loss: 1.5714 - accuracy: 0.4163 - val_loss: 1.5247 - val_accuracy: 0.4413\n",
            "Epoch 51/200\n",
            "121/121 [==============================] - 2s 15ms/step - loss: 1.5494 - accuracy: 0.4251 - val_loss: 1.5330 - val_accuracy: 0.4329\n",
            "Epoch 52/200\n",
            "121/121 [==============================] - 2s 15ms/step - loss: 1.5463 - accuracy: 0.4205 - val_loss: 1.5347 - val_accuracy: 0.4329\n",
            "Epoch 53/200\n",
            "121/121 [==============================] - 3s 21ms/step - loss: 1.5318 - accuracy: 0.4380 - val_loss: 1.5090 - val_accuracy: 0.4476\n",
            "Epoch 54/200\n",
            "121/121 [==============================] - 2s 15ms/step - loss: 1.5374 - accuracy: 0.4344 - val_loss: 1.5078 - val_accuracy: 0.4277\n",
            "Epoch 55/200\n",
            "121/121 [==============================] - 2s 15ms/step - loss: 1.5092 - accuracy: 0.4545 - val_loss: 1.4929 - val_accuracy: 0.4696\n",
            "Epoch 56/200\n",
            "121/121 [==============================] - 2s 15ms/step - loss: 1.4949 - accuracy: 0.4452 - val_loss: 1.4845 - val_accuracy: 0.4560\n",
            "Epoch 57/200\n",
            "121/121 [==============================] - 2s 14ms/step - loss: 1.4940 - accuracy: 0.4411 - val_loss: 1.5212 - val_accuracy: 0.4203\n",
            "Epoch 58/200\n",
            "121/121 [==============================] - 2s 21ms/step - loss: 1.4848 - accuracy: 0.4447 - val_loss: 1.4829 - val_accuracy: 0.4518\n",
            "Epoch 59/200\n",
            "121/121 [==============================] - 2s 15ms/step - loss: 1.4876 - accuracy: 0.4478 - val_loss: 1.4851 - val_accuracy: 0.4612\n",
            "Epoch 60/200\n",
            "121/121 [==============================] - 2s 15ms/step - loss: 1.4946 - accuracy: 0.4437 - val_loss: 1.4908 - val_accuracy: 0.4570\n",
            "Epoch 61/200\n",
            "121/121 [==============================] - 2s 15ms/step - loss: 1.4629 - accuracy: 0.4483 - val_loss: 1.4654 - val_accuracy: 0.4654\n",
            "Epoch 62/200\n",
            "121/121 [==============================] - 2s 15ms/step - loss: 1.4525 - accuracy: 0.4607 - val_loss: 1.4804 - val_accuracy: 0.4696\n",
            "Epoch 63/200\n",
            "121/121 [==============================] - 2s 15ms/step - loss: 1.4491 - accuracy: 0.4530 - val_loss: 1.4321 - val_accuracy: 0.4759\n",
            "Epoch 64/200\n",
            "121/121 [==============================] - 2s 15ms/step - loss: 1.4577 - accuracy: 0.4613 - val_loss: 1.4381 - val_accuracy: 0.4727\n",
            "Epoch 65/200\n",
            "121/121 [==============================] - 2s 18ms/step - loss: 1.4316 - accuracy: 0.4602 - val_loss: 1.4561 - val_accuracy: 0.4769\n",
            "Epoch 66/200\n",
            "121/121 [==============================] - 2s 15ms/step - loss: 1.4242 - accuracy: 0.4654 - val_loss: 1.4460 - val_accuracy: 0.4811\n",
            "Epoch 67/200\n",
            "121/121 [==============================] - 2s 15ms/step - loss: 1.4181 - accuracy: 0.4793 - val_loss: 1.4336 - val_accuracy: 0.4843\n",
            "Epoch 68/200\n",
            "121/121 [==============================] - 2s 15ms/step - loss: 1.4185 - accuracy: 0.4814 - val_loss: 1.4305 - val_accuracy: 0.4686\n",
            "Epoch 69/200\n",
            "121/121 [==============================] - 2s 15ms/step - loss: 1.4155 - accuracy: 0.4669 - val_loss: 1.4078 - val_accuracy: 0.4738\n",
            "Epoch 70/200\n",
            "121/121 [==============================] - 2s 15ms/step - loss: 1.4029 - accuracy: 0.4835 - val_loss: 1.4336 - val_accuracy: 0.4675\n",
            "Epoch 71/200\n",
            "121/121 [==============================] - 2s 16ms/step - loss: 1.4082 - accuracy: 0.4793 - val_loss: 1.4125 - val_accuracy: 0.4916\n",
            "Epoch 72/200\n",
            "121/121 [==============================] - 2s 15ms/step - loss: 1.3836 - accuracy: 0.4912 - val_loss: 1.3947 - val_accuracy: 0.4895\n",
            "Epoch 73/200\n",
            "121/121 [==============================] - 2s 15ms/step - loss: 1.3889 - accuracy: 0.4788 - val_loss: 1.3829 - val_accuracy: 0.4874\n",
            "Epoch 74/200\n",
            "121/121 [==============================] - 2s 15ms/step - loss: 1.3679 - accuracy: 0.5062 - val_loss: 1.3939 - val_accuracy: 0.5115\n",
            "Epoch 75/200\n",
            "121/121 [==============================] - 2s 15ms/step - loss: 1.3656 - accuracy: 0.4954 - val_loss: 1.3807 - val_accuracy: 0.5010\n",
            "Epoch 76/200\n",
            "121/121 [==============================] - 2s 16ms/step - loss: 1.3617 - accuracy: 0.4985 - val_loss: 1.3651 - val_accuracy: 0.5063\n",
            "Epoch 77/200\n",
            "121/121 [==============================] - 2s 16ms/step - loss: 1.3577 - accuracy: 0.5046 - val_loss: 1.3636 - val_accuracy: 0.4958\n",
            "Epoch 78/200\n",
            "121/121 [==============================] - 2s 15ms/step - loss: 1.3559 - accuracy: 0.4974 - val_loss: 1.3674 - val_accuracy: 0.5105\n",
            "Epoch 79/200\n",
            "121/121 [==============================] - 2s 15ms/step - loss: 1.3620 - accuracy: 0.4788 - val_loss: 1.3552 - val_accuracy: 0.5220\n",
            "Epoch 80/200\n",
            "121/121 [==============================] - 2s 15ms/step - loss: 1.3117 - accuracy: 0.5114 - val_loss: 1.3442 - val_accuracy: 0.5189\n",
            "Epoch 81/200\n",
            "121/121 [==============================] - 2s 15ms/step - loss: 1.3414 - accuracy: 0.4979 - val_loss: 1.3402 - val_accuracy: 0.5231\n",
            "Epoch 82/200\n",
            "121/121 [==============================] - 2s 15ms/step - loss: 1.3133 - accuracy: 0.5294 - val_loss: 1.3432 - val_accuracy: 0.5084\n",
            "Epoch 83/200\n",
            "121/121 [==============================] - 2s 15ms/step - loss: 1.2998 - accuracy: 0.5207 - val_loss: 1.3450 - val_accuracy: 0.5052\n",
            "Epoch 84/200\n",
            "121/121 [==============================] - 2s 15ms/step - loss: 1.3118 - accuracy: 0.5088 - val_loss: 1.3235 - val_accuracy: 0.5377\n",
            "Epoch 85/200\n",
            "121/121 [==============================] - 2s 15ms/step - loss: 1.3003 - accuracy: 0.5238 - val_loss: 1.3290 - val_accuracy: 0.5157\n",
            "Epoch 86/200\n",
            "121/121 [==============================] - 2s 15ms/step - loss: 1.2816 - accuracy: 0.5258 - val_loss: 1.3291 - val_accuracy: 0.5304\n",
            "Epoch 87/200\n",
            "121/121 [==============================] - 2s 15ms/step - loss: 1.3009 - accuracy: 0.5186 - val_loss: 1.3234 - val_accuracy: 0.5031\n",
            "Epoch 88/200\n",
            "121/121 [==============================] - 2s 15ms/step - loss: 1.2769 - accuracy: 0.5387 - val_loss: 1.3030 - val_accuracy: 0.5346\n",
            "Epoch 89/200\n",
            "121/121 [==============================] - 2s 15ms/step - loss: 1.2831 - accuracy: 0.5232 - val_loss: 1.3254 - val_accuracy: 0.5000\n",
            "Epoch 90/200\n",
            "121/121 [==============================] - 2s 15ms/step - loss: 1.2868 - accuracy: 0.5181 - val_loss: 1.3219 - val_accuracy: 0.5199\n",
            "Epoch 91/200\n",
            "121/121 [==============================] - 2s 15ms/step - loss: 1.2641 - accuracy: 0.5331 - val_loss: 1.2833 - val_accuracy: 0.5388\n",
            "Epoch 92/200\n",
            "121/121 [==============================] - 2s 15ms/step - loss: 1.2626 - accuracy: 0.5356 - val_loss: 1.2687 - val_accuracy: 0.5430\n",
            "Epoch 93/200\n",
            "121/121 [==============================] - 2s 15ms/step - loss: 1.2660 - accuracy: 0.5274 - val_loss: 1.2929 - val_accuracy: 0.5252\n",
            "Epoch 94/200\n",
            "121/121 [==============================] - 2s 15ms/step - loss: 1.2339 - accuracy: 0.5491 - val_loss: 1.2666 - val_accuracy: 0.5566\n",
            "Epoch 95/200\n",
            "121/121 [==============================] - 2s 15ms/step - loss: 1.2298 - accuracy: 0.5455 - val_loss: 1.2891 - val_accuracy: 0.5346\n",
            "Epoch 96/200\n",
            "121/121 [==============================] - 2s 15ms/step - loss: 1.2230 - accuracy: 0.5542 - val_loss: 1.2654 - val_accuracy: 0.5545\n",
            "Epoch 97/200\n",
            "121/121 [==============================] - 2s 15ms/step - loss: 1.2401 - accuracy: 0.5434 - val_loss: 1.2670 - val_accuracy: 0.5482\n",
            "Epoch 98/200\n",
            "121/121 [==============================] - 2s 15ms/step - loss: 1.2313 - accuracy: 0.5506 - val_loss: 1.2558 - val_accuracy: 0.5503\n",
            "Epoch 99/200\n",
            "121/121 [==============================] - 2s 15ms/step - loss: 1.2177 - accuracy: 0.5599 - val_loss: 1.2454 - val_accuracy: 0.5556\n",
            "Epoch 100/200\n",
            "121/121 [==============================] - 2s 15ms/step - loss: 1.1995 - accuracy: 0.5640 - val_loss: 1.2889 - val_accuracy: 0.5262\n",
            "Epoch 101/200\n",
            "121/121 [==============================] - 2s 15ms/step - loss: 1.2052 - accuracy: 0.5475 - val_loss: 1.2626 - val_accuracy: 0.5472\n",
            "Epoch 102/200\n",
            "121/121 [==============================] - 2s 15ms/step - loss: 1.1920 - accuracy: 0.5615 - val_loss: 1.2457 - val_accuracy: 0.5660\n",
            "Epoch 103/200\n",
            "121/121 [==============================] - 2s 15ms/step - loss: 1.1918 - accuracy: 0.5599 - val_loss: 1.2270 - val_accuracy: 0.5629\n",
            "Epoch 104/200\n",
            "121/121 [==============================] - 2s 15ms/step - loss: 1.1986 - accuracy: 0.5599 - val_loss: 1.2262 - val_accuracy: 0.5639\n",
            "Epoch 105/200\n",
            "121/121 [==============================] - 2s 15ms/step - loss: 1.1689 - accuracy: 0.5651 - val_loss: 1.2264 - val_accuracy: 0.5545\n",
            "Epoch 106/200\n",
            "121/121 [==============================] - 2s 15ms/step - loss: 1.1570 - accuracy: 0.5754 - val_loss: 1.2319 - val_accuracy: 0.5577\n",
            "Epoch 107/200\n",
            "121/121 [==============================] - 2s 15ms/step - loss: 1.1804 - accuracy: 0.5661 - val_loss: 1.2106 - val_accuracy: 0.5744\n",
            "Epoch 108/200\n",
            "121/121 [==============================] - 2s 15ms/step - loss: 1.1352 - accuracy: 0.5976 - val_loss: 1.2064 - val_accuracy: 0.5755\n",
            "Epoch 109/200\n",
            "121/121 [==============================] - 2s 15ms/step - loss: 1.1482 - accuracy: 0.5728 - val_loss: 1.2083 - val_accuracy: 0.5639\n",
            "Epoch 110/200\n",
            "121/121 [==============================] - 2s 15ms/step - loss: 1.1448 - accuracy: 0.5790 - val_loss: 1.2054 - val_accuracy: 0.5545\n",
            "Epoch 111/200\n",
            "121/121 [==============================] - 2s 15ms/step - loss: 1.1285 - accuracy: 0.5883 - val_loss: 1.2180 - val_accuracy: 0.5577\n",
            "Epoch 112/200\n",
            "121/121 [==============================] - 2s 15ms/step - loss: 1.1348 - accuracy: 0.5744 - val_loss: 1.1939 - val_accuracy: 0.5776\n",
            "Epoch 113/200\n",
            "121/121 [==============================] - 2s 15ms/step - loss: 1.1202 - accuracy: 0.5878 - val_loss: 1.2084 - val_accuracy: 0.5702\n",
            "Epoch 114/200\n",
            "121/121 [==============================] - 2s 15ms/step - loss: 1.1455 - accuracy: 0.5775 - val_loss: 1.1828 - val_accuracy: 0.5922\n",
            "Epoch 115/200\n",
            "121/121 [==============================] - 2s 15ms/step - loss: 1.1092 - accuracy: 0.5971 - val_loss: 1.1807 - val_accuracy: 0.5776\n",
            "Epoch 116/200\n",
            "121/121 [==============================] - 2s 15ms/step - loss: 1.0988 - accuracy: 0.5945 - val_loss: 1.1820 - val_accuracy: 0.5849\n",
            "Epoch 117/200\n",
            "121/121 [==============================] - 2s 15ms/step - loss: 1.1032 - accuracy: 0.5992 - val_loss: 1.1731 - val_accuracy: 0.5839\n",
            "Epoch 118/200\n",
            "121/121 [==============================] - 2s 15ms/step - loss: 1.1055 - accuracy: 0.5904 - val_loss: 1.1739 - val_accuracy: 0.5671\n",
            "Epoch 119/200\n",
            "121/121 [==============================] - 2s 15ms/step - loss: 1.0836 - accuracy: 0.6033 - val_loss: 1.1477 - val_accuracy: 0.5891\n",
            "Epoch 120/200\n",
            "121/121 [==============================] - 2s 15ms/step - loss: 1.0820 - accuracy: 0.6043 - val_loss: 1.1812 - val_accuracy: 0.5933\n",
            "Epoch 121/200\n",
            "121/121 [==============================] - 2s 15ms/step - loss: 1.0686 - accuracy: 0.6142 - val_loss: 1.1495 - val_accuracy: 0.6038\n",
            "Epoch 122/200\n",
            "121/121 [==============================] - 2s 15ms/step - loss: 1.0655 - accuracy: 0.6121 - val_loss: 1.1588 - val_accuracy: 0.5807\n",
            "Epoch 123/200\n",
            "121/121 [==============================] - 2s 15ms/step - loss: 1.0687 - accuracy: 0.6188 - val_loss: 1.1456 - val_accuracy: 0.5901\n",
            "Epoch 124/200\n",
            "121/121 [==============================] - 2s 15ms/step - loss: 1.0379 - accuracy: 0.6229 - val_loss: 1.1376 - val_accuracy: 0.6027\n",
            "Epoch 125/200\n",
            "121/121 [==============================] - 2s 15ms/step - loss: 1.0458 - accuracy: 0.6100 - val_loss: 1.1517 - val_accuracy: 0.6059\n",
            "Epoch 126/200\n",
            "121/121 [==============================] - 2s 15ms/step - loss: 1.0406 - accuracy: 0.6054 - val_loss: 1.1307 - val_accuracy: 0.6122\n",
            "Epoch 127/200\n",
            "121/121 [==============================] - 2s 16ms/step - loss: 1.0390 - accuracy: 0.6183 - val_loss: 1.1274 - val_accuracy: 0.6048\n",
            "Epoch 128/200\n",
            "121/121 [==============================] - 2s 16ms/step - loss: 1.0524 - accuracy: 0.6204 - val_loss: 1.1169 - val_accuracy: 0.6195\n",
            "Epoch 129/200\n",
            "121/121 [==============================] - 2s 15ms/step - loss: 1.0310 - accuracy: 0.6426 - val_loss: 1.1146 - val_accuracy: 0.6226\n",
            "Epoch 130/200\n",
            "121/121 [==============================] - 2s 15ms/step - loss: 1.0418 - accuracy: 0.6059 - val_loss: 1.1096 - val_accuracy: 0.6300\n",
            "Epoch 131/200\n",
            "121/121 [==============================] - 2s 15ms/step - loss: 1.0354 - accuracy: 0.6296 - val_loss: 1.1015 - val_accuracy: 0.6164\n",
            "Epoch 132/200\n",
            "121/121 [==============================] - 2s 15ms/step - loss: 0.9879 - accuracy: 0.6457 - val_loss: 1.0946 - val_accuracy: 0.6331\n",
            "Epoch 133/200\n",
            "121/121 [==============================] - 2s 15ms/step - loss: 1.0013 - accuracy: 0.6307 - val_loss: 1.0765 - val_accuracy: 0.6426\n",
            "Epoch 134/200\n",
            "121/121 [==============================] - 2s 15ms/step - loss: 1.0052 - accuracy: 0.6214 - val_loss: 1.0892 - val_accuracy: 0.6300\n",
            "Epoch 135/200\n",
            "121/121 [==============================] - 2s 15ms/step - loss: 0.9790 - accuracy: 0.6457 - val_loss: 1.0783 - val_accuracy: 0.6226\n",
            "Epoch 136/200\n",
            "121/121 [==============================] - 2s 16ms/step - loss: 0.9917 - accuracy: 0.6384 - val_loss: 1.0783 - val_accuracy: 0.6258\n",
            "Epoch 137/200\n",
            "121/121 [==============================] - 2s 15ms/step - loss: 0.9923 - accuracy: 0.6446 - val_loss: 1.0836 - val_accuracy: 0.6216\n",
            "Epoch 138/200\n",
            "121/121 [==============================] - 2s 15ms/step - loss: 0.9954 - accuracy: 0.6384 - val_loss: 1.0891 - val_accuracy: 0.6279\n",
            "Epoch 139/200\n",
            "121/121 [==============================] - 2s 15ms/step - loss: 0.9680 - accuracy: 0.6477 - val_loss: 1.0735 - val_accuracy: 0.6300\n",
            "Epoch 140/200\n",
            "121/121 [==============================] - 2s 15ms/step - loss: 0.9679 - accuracy: 0.6498 - val_loss: 1.0790 - val_accuracy: 0.6310\n",
            "Epoch 141/200\n",
            "121/121 [==============================] - 2s 15ms/step - loss: 0.9677 - accuracy: 0.6493 - val_loss: 1.0508 - val_accuracy: 0.6572\n",
            "Epoch 142/200\n",
            "121/121 [==============================] - 2s 15ms/step - loss: 0.9530 - accuracy: 0.6488 - val_loss: 1.0591 - val_accuracy: 0.6478\n",
            "Epoch 143/200\n",
            "121/121 [==============================] - 2s 15ms/step - loss: 0.9386 - accuracy: 0.6663 - val_loss: 1.0600 - val_accuracy: 0.6447\n",
            "Epoch 144/200\n",
            "121/121 [==============================] - 2s 15ms/step - loss: 0.9564 - accuracy: 0.6508 - val_loss: 1.0439 - val_accuracy: 0.6509\n",
            "Epoch 145/200\n",
            "121/121 [==============================] - 2s 15ms/step - loss: 0.9497 - accuracy: 0.6596 - val_loss: 1.0264 - val_accuracy: 0.6614\n",
            "Epoch 146/200\n",
            "121/121 [==============================] - 2s 15ms/step - loss: 0.9435 - accuracy: 0.6575 - val_loss: 1.0186 - val_accuracy: 0.6698\n",
            "Epoch 147/200\n",
            "121/121 [==============================] - 2s 15ms/step - loss: 0.9450 - accuracy: 0.6534 - val_loss: 1.0709 - val_accuracy: 0.6300\n",
            "Epoch 148/200\n",
            "121/121 [==============================] - 2s 15ms/step - loss: 0.9302 - accuracy: 0.6751 - val_loss: 1.0126 - val_accuracy: 0.6614\n",
            "Epoch 149/200\n",
            "121/121 [==============================] - 2s 15ms/step - loss: 0.9008 - accuracy: 0.6870 - val_loss: 1.0094 - val_accuracy: 0.6614\n",
            "Epoch 150/200\n",
            "121/121 [==============================] - 2s 15ms/step - loss: 0.9035 - accuracy: 0.6643 - val_loss: 1.0323 - val_accuracy: 0.6457\n",
            "Epoch 151/200\n",
            "121/121 [==============================] - 2s 15ms/step - loss: 0.8971 - accuracy: 0.6818 - val_loss: 1.0228 - val_accuracy: 0.6562\n",
            "Epoch 152/200\n",
            "121/121 [==============================] - 2s 15ms/step - loss: 0.8948 - accuracy: 0.6715 - val_loss: 1.0181 - val_accuracy: 0.6740\n",
            "Epoch 153/200\n",
            "121/121 [==============================] - 2s 16ms/step - loss: 0.9025 - accuracy: 0.6854 - val_loss: 1.0019 - val_accuracy: 0.6740\n",
            "Epoch 154/200\n",
            "121/121 [==============================] - 2s 16ms/step - loss: 0.8903 - accuracy: 0.6782 - val_loss: 1.0160 - val_accuracy: 0.6719\n",
            "Epoch 155/200\n",
            "121/121 [==============================] - 2s 15ms/step - loss: 0.8750 - accuracy: 0.6937 - val_loss: 0.9891 - val_accuracy: 0.6813\n",
            "Epoch 156/200\n",
            "121/121 [==============================] - 2s 16ms/step - loss: 0.8610 - accuracy: 0.6958 - val_loss: 0.9802 - val_accuracy: 0.6751\n",
            "Epoch 157/200\n",
            "121/121 [==============================] - 2s 15ms/step - loss: 0.8608 - accuracy: 0.6999 - val_loss: 1.0203 - val_accuracy: 0.6583\n",
            "Epoch 158/200\n",
            "121/121 [==============================] - 2s 15ms/step - loss: 0.8764 - accuracy: 0.6844 - val_loss: 0.9878 - val_accuracy: 0.6740\n",
            "Epoch 159/200\n",
            "121/121 [==============================] - 2s 15ms/step - loss: 0.8751 - accuracy: 0.6994 - val_loss: 1.0103 - val_accuracy: 0.6520\n",
            "Epoch 160/200\n",
            "121/121 [==============================] - 2s 15ms/step - loss: 0.8580 - accuracy: 0.6916 - val_loss: 0.9698 - val_accuracy: 0.6740\n",
            "Epoch 161/200\n",
            "121/121 [==============================] - 2s 16ms/step - loss: 0.8402 - accuracy: 0.6999 - val_loss: 0.9799 - val_accuracy: 0.6667\n",
            "Epoch 162/200\n",
            "121/121 [==============================] - 2s 16ms/step - loss: 0.8390 - accuracy: 0.6983 - val_loss: 0.9673 - val_accuracy: 0.6887\n",
            "Epoch 163/200\n",
            "121/121 [==============================] - 2s 16ms/step - loss: 0.8371 - accuracy: 0.7092 - val_loss: 0.9942 - val_accuracy: 0.6635\n",
            "Epoch 164/200\n",
            "121/121 [==============================] - 2s 15ms/step - loss: 0.8413 - accuracy: 0.7061 - val_loss: 0.9764 - val_accuracy: 0.6813\n",
            "Epoch 165/200\n",
            "121/121 [==============================] - 2s 15ms/step - loss: 0.8280 - accuracy: 0.7082 - val_loss: 0.9766 - val_accuracy: 0.6719\n",
            "Epoch 166/200\n",
            "121/121 [==============================] - 2s 15ms/step - loss: 0.8419 - accuracy: 0.7035 - val_loss: 0.9734 - val_accuracy: 0.6730\n",
            "Epoch 167/200\n",
            "121/121 [==============================] - 2s 15ms/step - loss: 0.8411 - accuracy: 0.7066 - val_loss: 0.9574 - val_accuracy: 0.6897\n",
            "Epoch 168/200\n",
            "121/121 [==============================] - 2s 15ms/step - loss: 0.8196 - accuracy: 0.7113 - val_loss: 0.9647 - val_accuracy: 0.6751\n",
            "Epoch 169/200\n",
            "121/121 [==============================] - 2s 15ms/step - loss: 0.8119 - accuracy: 0.7061 - val_loss: 0.9748 - val_accuracy: 0.6614\n",
            "Epoch 170/200\n",
            "121/121 [==============================] - 2s 16ms/step - loss: 0.8228 - accuracy: 0.7123 - val_loss: 0.9449 - val_accuracy: 0.6918\n",
            "Epoch 171/200\n",
            "121/121 [==============================] - 2s 15ms/step - loss: 0.8019 - accuracy: 0.7252 - val_loss: 0.9277 - val_accuracy: 0.7013\n",
            "Epoch 172/200\n",
            "121/121 [==============================] - 2s 15ms/step - loss: 0.8150 - accuracy: 0.7097 - val_loss: 0.9264 - val_accuracy: 0.7075\n",
            "Epoch 173/200\n",
            "121/121 [==============================] - 2s 16ms/step - loss: 0.7975 - accuracy: 0.7175 - val_loss: 0.9362 - val_accuracy: 0.6929\n",
            "Epoch 174/200\n",
            "121/121 [==============================] - 2s 15ms/step - loss: 0.7838 - accuracy: 0.7340 - val_loss: 0.9360 - val_accuracy: 0.6897\n",
            "Epoch 175/200\n",
            "121/121 [==============================] - 2s 15ms/step - loss: 0.8017 - accuracy: 0.7133 - val_loss: 0.9177 - val_accuracy: 0.6918\n",
            "Epoch 176/200\n",
            "121/121 [==============================] - 2s 16ms/step - loss: 0.7749 - accuracy: 0.7164 - val_loss: 0.9156 - val_accuracy: 0.7055\n",
            "Epoch 177/200\n",
            "121/121 [==============================] - 2s 15ms/step - loss: 0.7818 - accuracy: 0.7262 - val_loss: 0.9281 - val_accuracy: 0.6866\n",
            "Epoch 178/200\n",
            "121/121 [==============================] - 2s 15ms/step - loss: 0.7814 - accuracy: 0.7185 - val_loss: 0.9286 - val_accuracy: 0.6939\n",
            "Epoch 179/200\n",
            "121/121 [==============================] - 2s 16ms/step - loss: 0.7731 - accuracy: 0.7376 - val_loss: 0.9196 - val_accuracy: 0.6887\n",
            "Epoch 180/200\n",
            "121/121 [==============================] - 2s 15ms/step - loss: 0.7692 - accuracy: 0.7423 - val_loss: 0.9022 - val_accuracy: 0.7002\n",
            "Epoch 181/200\n",
            "121/121 [==============================] - 2s 15ms/step - loss: 0.7533 - accuracy: 0.7350 - val_loss: 0.9146 - val_accuracy: 0.6960\n",
            "Epoch 182/200\n",
            "121/121 [==============================] - 2s 15ms/step - loss: 0.7529 - accuracy: 0.7340 - val_loss: 0.9088 - val_accuracy: 0.6824\n",
            "Epoch 183/200\n",
            "121/121 [==============================] - 2s 16ms/step - loss: 0.7466 - accuracy: 0.7397 - val_loss: 0.8960 - val_accuracy: 0.7117\n",
            "Epoch 184/200\n",
            "121/121 [==============================] - 2s 15ms/step - loss: 0.7532 - accuracy: 0.7304 - val_loss: 0.9168 - val_accuracy: 0.6960\n",
            "Epoch 185/200\n",
            "121/121 [==============================] - 2s 15ms/step - loss: 0.7570 - accuracy: 0.7392 - val_loss: 0.8894 - val_accuracy: 0.7191\n",
            "Epoch 186/200\n",
            "121/121 [==============================] - 2s 15ms/step - loss: 0.7286 - accuracy: 0.7443 - val_loss: 0.8935 - val_accuracy: 0.7096\n",
            "Epoch 187/200\n",
            "121/121 [==============================] - 2s 15ms/step - loss: 0.7139 - accuracy: 0.7603 - val_loss: 0.9009 - val_accuracy: 0.7075\n",
            "Epoch 188/200\n",
            "121/121 [==============================] - 2s 16ms/step - loss: 0.7162 - accuracy: 0.7521 - val_loss: 0.9138 - val_accuracy: 0.7044\n",
            "Epoch 189/200\n",
            "121/121 [==============================] - 2s 15ms/step - loss: 0.7245 - accuracy: 0.7469 - val_loss: 0.8958 - val_accuracy: 0.7117\n",
            "Epoch 190/200\n",
            "121/121 [==============================] - 2s 15ms/step - loss: 0.7160 - accuracy: 0.7438 - val_loss: 0.8881 - val_accuracy: 0.6960\n",
            "Epoch 191/200\n",
            "121/121 [==============================] - 2s 15ms/step - loss: 0.7365 - accuracy: 0.7448 - val_loss: 0.8903 - val_accuracy: 0.7075\n",
            "Epoch 192/200\n",
            "121/121 [==============================] - 2s 15ms/step - loss: 0.7332 - accuracy: 0.7423 - val_loss: 0.8578 - val_accuracy: 0.7243\n",
            "Epoch 193/200\n",
            "121/121 [==============================] - 2s 16ms/step - loss: 0.7217 - accuracy: 0.7500 - val_loss: 0.8538 - val_accuracy: 0.7327\n",
            "Epoch 194/200\n",
            "121/121 [==============================] - 2s 15ms/step - loss: 0.7008 - accuracy: 0.7557 - val_loss: 0.8652 - val_accuracy: 0.7201\n",
            "Epoch 195/200\n",
            "121/121 [==============================] - 2s 16ms/step - loss: 0.6969 - accuracy: 0.7603 - val_loss: 0.8532 - val_accuracy: 0.7264\n",
            "Epoch 196/200\n",
            "121/121 [==============================] - 2s 15ms/step - loss: 0.7018 - accuracy: 0.7500 - val_loss: 0.8508 - val_accuracy: 0.7086\n",
            "Epoch 197/200\n",
            "121/121 [==============================] - 2s 15ms/step - loss: 0.6854 - accuracy: 0.7645 - val_loss: 0.8600 - val_accuracy: 0.7285\n",
            "Epoch 198/200\n",
            "121/121 [==============================] - 2s 15ms/step - loss: 0.6908 - accuracy: 0.7567 - val_loss: 0.8503 - val_accuracy: 0.7254\n",
            "Epoch 199/200\n",
            "121/121 [==============================] - 2s 16ms/step - loss: 0.6718 - accuracy: 0.7567 - val_loss: 0.8436 - val_accuracy: 0.7201\n",
            "Epoch 200/200\n",
            "121/121 [==============================] - 2s 15ms/step - loss: 0.6633 - accuracy: 0.7758 - val_loss: 0.8434 - val_accuracy: 0.7233\n"
          ]
        }
      ]
    },
    {
      "cell_type": "code",
      "metadata": {
        "id": "WEomk3HUOwSz",
        "colab": {
          "base_uri": "https://localhost:8080/",
          "height": 295
        },
        "outputId": "7c6e132f-b63d-417c-aa9d-372845587fd1"
      },
      "source": [
        "plt.plot(cnnhistory.history['loss'])\n",
        "plt.plot(cnnhistory.history['val_loss'])\n",
        "plt.title('model loss')\n",
        "plt.ylabel('loss')\n",
        "plt.xlabel('epoch')\n",
        "plt.legend(['train', 'test'], loc='upper left')\n",
        "plt.show()"
      ],
      "execution_count": null,
      "outputs": [
        {
          "output_type": "display_data",
          "data": {
            "text/plain": [
              "<Figure size 432x288 with 1 Axes>"
            ],
            "image/png": "[encoded data removed]"
          },
          "metadata": {
            "needs_background": "light"
          }
        }
      ]
    },
    {
      "cell_type": "code",
      "metadata": {
        "id": "n4UNnOn80S_3",
        "colab": {
          "base_uri": "https://localhost:8080/",
          "height": 295
        },
        "outputId": "55c6d375-abaf-4737-881f-6753d7086206"
      },
      "source": [
        "plt.plot(cnnhistory.history['accuracy'])\n",
        "plt.plot(cnnhistory.history['val_accuracy'])\n",
        "plt.title('model accuracy')\n",
        "plt.ylabel('accuracy')\n",
        "plt.xlabel('epoch')\n",
        "plt.legend(['train', 'test'], loc='upper left')\n",
        "plt.show()"
      ],
      "execution_count": null,
      "outputs": [
        {
          "output_type": "display_data",
          "data": {
            "text/plain": [
              "<Figure size 432x288 with 1 Axes>"
            ],
            "image/png": "[encoded data removed]"
          },
          "metadata": {
            "needs_background": "light"
          }
        }
      ]
    },
    {
      "cell_type": "code",
      "metadata": {
        "id": "CSR0-VCVPO81"
      },
      "source": [
        "#predictions = model.predict_classes(x_testcnn)\n",
        "predict_x=model.predict(X_test) \n",
        "classes_x=np.argmax(predict_x,axis=1)"
      ],
      "execution_count": null,
      "outputs": []
    },
    {
      "cell_type": "code",
      "metadata": {
        "id": "7uKNuzd6PVZi",
        "colab": {
          "base_uri": "https://localhost:8080/"
        },
        "outputId": "00d37a45-50b4-48d9-eafb-8b1e3768d3a4"
      },
      "source": [
        "predictions"
      ],
      "execution_count": null,
      "outputs": [
        {
          "output_type": "execute_result",
          "data": {
            "text/plain": [
              "array([7, 4, 5, 1, 7, 1, 2, 4, 4, 7, 0, 4, 4, 2, 4, 2, 3, 7, 1, 7, 6, 4,\n",
              "       7, 6, 3, 1, 5, 2, 2, 1, 5, 5, 6, 5, 3, 3, 6, 0, 2, 6, 4, 7, 6, 3,\n",
              "       3, 7, 3, 4, 1, 4, 5, 2, 7, 3, 6, 3, 6, 5, 3, 5, 5, 5, 6, 3, 2, 2,\n",
              "       0, 1, 4, 2, 7, 0, 7, 1, 1, 1, 4, 5, 3, 2, 7, 4, 3, 5, 2, 3, 1, 3,\n",
              "       0, 3, 3, 6, 6, 3, 1, 7, 2, 2, 7, 7, 1, 5, 3, 3, 0, 7, 3, 3, 7, 2,\n",
              "       1, 2, 2, 4, 2, 4, 4, 0, 7, 6, 3, 5, 5, 6, 5, 6, 5, 7, 2, 5, 2, 6,\n",
              "       0, 1, 5, 2, 0, 5, 7, 6, 5, 3, 3, 1, 1, 5, 6, 5, 1, 7, 0, 3, 5, 0,\n",
              "       4, 0, 7, 4, 1, 3, 7, 0, 4, 4, 7, 6, 2, 7, 3, 7, 1, 4, 5, 2, 4, 0,\n",
              "       6, 5, 6, 5, 6, 5, 2, 4, 7, 7, 7, 7, 4, 7, 0, 4, 7, 2, 3, 4, 2, 0,\n",
              "       4, 6, 5, 4, 7, 7, 5, 3, 5, 6, 7, 3, 1, 6, 4, 2, 2, 6, 6, 2, 7, 4,\n",
              "       1, 4, 4, 1, 6, 5, 2, 4, 4, 5, 1, 5, 5, 5, 1, 3, 3, 3, 0, 3, 0, 3,\n",
              "       1, 6, 7, 2, 5, 2, 6, 3, 4, 5, 5, 2, 3, 7, 5, 1, 2, 2, 4, 4, 6, 0,\n",
              "       0, 5, 1, 2, 3, 3, 1, 2, 1, 2, 3, 7, 2, 6, 7, 4, 1, 5, 6, 2, 5, 4,\n",
              "       7, 7, 6, 6, 5, 6, 4, 6, 4, 5, 3, 6, 0, 3, 0, 3, 7, 3, 4, 1, 6, 2,\n",
              "       6, 4, 6, 6, 3, 0, 4, 2, 3, 2, 2, 4, 1, 2, 3, 0, 1, 6, 1, 6, 7, 2,\n",
              "       7, 0, 5, 4, 7, 6, 4, 4, 1, 4, 3, 1, 3, 5, 7, 3, 6, 5, 7, 3, 4, 5,\n",
              "       4, 5, 6, 3, 4, 4, 0, 7, 4, 1, 6, 4, 4, 0, 4, 6, 6, 3, 2, 3, 2, 6,\n",
              "       7, 5, 3, 1, 5, 1, 7, 6, 4, 7, 5, 6, 4, 7, 4, 2, 1, 6, 2, 1, 2, 1,\n",
              "       1, 5, 2, 3, 5, 1, 7, 6, 1, 5, 5, 3, 6, 4, 6, 3, 3, 7, 2, 5, 7, 3,\n",
              "       2, 4, 2, 5, 7, 3, 3, 6, 7, 1, 1, 7, 7, 6, 1, 0, 5, 6, 3, 3, 1, 3,\n",
              "       2, 7, 7, 2, 5, 3, 7, 7, 1, 0, 4, 7, 7, 4, 4, 4, 6, 0, 4, 2, 3, 5,\n",
              "       7, 7, 6, 7, 7, 7, 3, 1, 5, 7, 6, 0, 5, 4, 6, 3, 3, 7, 5, 7, 5, 0,\n",
              "       3, 7, 1, 5, 4, 1, 5, 2, 3, 2, 6, 6, 4, 4, 5, 1, 7, 2, 2, 2, 7, 5,\n",
              "       3, 5, 6, 6, 4, 3, 4, 3, 5, 2, 6, 4, 4, 2, 2, 7, 6, 4, 5, 4, 3, 0,\n",
              "       4, 5, 1, 0, 5, 7, 1, 2, 6, 6, 1, 3, 2, 2, 4, 2, 0, 3, 2, 3, 2, 5,\n",
              "       6, 7, 7, 2, 6, 5, 3, 6, 6, 7, 5, 7, 5, 5, 3, 5, 4, 6, 0, 7, 6, 2,\n",
              "       2, 0, 4, 5, 1, 1, 6, 3, 2, 6, 1, 1, 5, 5, 1, 2, 7, 4, 5, 5, 5, 4,\n",
              "       2, 0, 1, 7, 6, 2, 0, 4, 3, 7, 0, 2, 2, 3, 3, 2, 5, 6, 6, 7, 7, 2,\n",
              "       4, 0, 1, 3, 7, 1, 7, 6, 5, 5, 6, 3, 2, 3, 1, 2, 4, 6, 0, 5, 3, 4,\n",
              "       2, 4, 1, 5, 2, 3, 2, 2, 6, 2, 4, 3, 4, 4, 1, 2, 0, 2, 7, 3, 5, 4,\n",
              "       4, 4, 7, 7, 7, 0, 1, 7, 1, 7, 4, 3, 7, 5, 7, 6, 1, 1, 0, 1, 4, 1,\n",
              "       2, 5, 6, 3, 5, 1, 2, 7, 5, 4, 6, 3, 6, 6, 2, 2, 0, 6, 5, 6, 3, 1,\n",
              "       3, 6, 0, 3, 1, 6, 4, 2, 6, 7, 1, 5, 2, 2, 5, 7, 1, 4, 2, 4, 5, 7,\n",
              "       7, 4, 2, 6, 1, 3, 6, 2, 7, 5, 5, 3, 3, 7, 5, 3, 7, 0, 1, 6, 5, 3,\n",
              "       1, 1, 4, 0, 7, 3, 4, 4, 0, 2, 0, 5, 0, 1, 1, 6, 0, 7, 1, 0, 7, 6,\n",
              "       0, 7, 2, 2, 5, 7, 4, 5, 4, 3, 4, 6, 7, 6, 4, 1, 5, 0, 2, 7, 7, 5,\n",
              "       4, 4, 3, 0, 6, 2, 4, 1, 3, 7, 1, 7, 4, 5, 2, 0, 5, 1, 7, 2, 6, 2,\n",
              "       4, 3, 5, 2, 2, 4, 7, 0, 4, 7, 5, 4, 4, 5, 5, 5, 3, 6, 3, 3, 4, 4,\n",
              "       4, 6, 6, 1, 2, 6, 5, 1, 2, 7, 2, 3, 2, 3, 7, 3, 2, 6, 0, 4, 3, 6,\n",
              "       2, 4, 1, 2, 5, 4, 7, 4, 4, 2, 3, 3, 7, 7, 1, 1, 6, 7, 1, 3, 6, 3,\n",
              "       6, 4, 1, 3, 1, 7, 5, 7, 1, 6, 1, 1, 1, 5, 2, 6, 6, 0, 2, 1, 0, 5,\n",
              "       3, 5, 3, 6, 4, 7, 6, 1, 2, 2, 2, 5, 7, 0, 5, 4, 1, 1, 1, 3, 6, 3,\n",
              "       7, 1, 7, 7, 7, 0, 1, 1, 3, 4, 5, 5, 6, 4, 3, 6, 3, 1, 7, 3, 5, 7,\n",
              "       0, 0, 3, 3, 4, 5, 1, 1])"
            ]
          },
          "metadata": {},
          "execution_count": 59
        }
      ]
    },
    {
      "cell_type": "code",
      "metadata": {
        "id": "GhfXlBdJQFr9",
        "colab": {
          "base_uri": "https://localhost:8080/"
        },
        "outputId": "8fd0cc41-4c54-4114-a1cd-b5d29f22b0e9"
      },
      "source": [
        "y_test"
      ],
      "execution_count": null,
      "outputs": [
        {
          "output_type": "execute_result",
          "data": {
            "text/plain": [
              "array([7, 4, 4, 1, 7, 0, 2, 6, 4, 7, 0, 4, 3, 2, 4, 7, 1, 7, 1, 7, 4, 4,\n",
              "       7, 6, 3, 1, 5, 2, 2, 1, 5, 5, 2, 5, 3, 1, 6, 0, 2, 6, 4, 7, 6, 3,\n",
              "       3, 7, 3, 4, 1, 2, 5, 2, 7, 3, 6, 3, 5, 6, 3, 5, 7, 5, 6, 3, 2, 2,\n",
              "       3, 1, 4, 2, 7, 0, 7, 1, 6, 1, 4, 5, 3, 2, 2, 4, 3, 5, 5, 3, 6, 6,\n",
              "       0, 3, 3, 6, 6, 3, 1, 7, 2, 2, 7, 7, 1, 5, 3, 1, 6, 7, 3, 3, 7, 2,\n",
              "       6, 2, 0, 4, 2, 4, 3, 0, 7, 6, 3, 5, 5, 6, 5, 6, 5, 1, 2, 5, 4, 6,\n",
              "       0, 1, 5, 2, 0, 5, 7, 6, 5, 4, 5, 1, 1, 5, 6, 5, 1, 7, 0, 3, 5, 1,\n",
              "       4, 2, 1, 5, 1, 3, 7, 0, 4, 4, 7, 4, 2, 7, 6, 7, 1, 4, 5, 2, 4, 0,\n",
              "       6, 5, 6, 5, 6, 5, 4, 4, 7, 7, 7, 7, 4, 7, 0, 4, 3, 7, 3, 4, 7, 0,\n",
              "       4, 6, 5, 4, 7, 7, 5, 5, 3, 6, 7, 7, 1, 6, 4, 4, 3, 6, 6, 2, 7, 4,\n",
              "       1, 4, 4, 1, 6, 5, 2, 4, 2, 5, 1, 5, 5, 6, 1, 3, 3, 3, 1, 1, 1, 6,\n",
              "       1, 6, 7, 2, 2, 2, 6, 3, 2, 5, 5, 2, 3, 7, 5, 1, 2, 5, 4, 7, 6, 0,\n",
              "       0, 5, 1, 2, 3, 3, 1, 2, 1, 2, 3, 7, 7, 6, 7, 6, 1, 5, 7, 2, 3, 5,\n",
              "       7, 7, 6, 6, 5, 4, 4, 5, 4, 6, 3, 6, 0, 3, 0, 3, 7, 3, 4, 1, 6, 2,\n",
              "       6, 4, 7, 6, 3, 0, 4, 2, 3, 2, 2, 4, 1, 2, 3, 0, 1, 6, 2, 6, 7, 2,\n",
              "       7, 0, 5, 4, 7, 6, 4, 4, 1, 2, 3, 1, 3, 6, 7, 6, 6, 5, 7, 3, 4, 7,\n",
              "       4, 5, 6, 3, 2, 4, 0, 5, 4, 1, 6, 4, 4, 0, 3, 4, 6, 3, 2, 3, 2, 4,\n",
              "       6, 5, 7, 7, 3, 1, 3, 6, 4, 7, 3, 6, 4, 6, 4, 2, 1, 6, 2, 1, 2, 1,\n",
              "       1, 5, 4, 3, 5, 1, 7, 6, 1, 2, 5, 3, 5, 4, 6, 3, 3, 0, 2, 5, 7, 3,\n",
              "       2, 5, 2, 5, 7, 5, 1, 6, 7, 1, 1, 6, 7, 6, 1, 0, 5, 6, 3, 3, 1, 3,\n",
              "       2, 7, 6, 2, 5, 3, 7, 7, 1, 0, 4, 7, 7, 4, 2, 4, 6, 0, 4, 1, 4, 5,\n",
              "       7, 6, 6, 7, 6, 5, 1, 2, 5, 7, 4, 0, 5, 4, 2, 3, 1, 0, 5, 7, 5, 0,\n",
              "       3, 7, 1, 5, 4, 1, 5, 2, 3, 7, 6, 6, 4, 4, 6, 1, 7, 2, 2, 2, 7, 5,\n",
              "       5, 1, 6, 4, 5, 3, 4, 2, 5, 2, 3, 4, 4, 6, 2, 7, 3, 4, 5, 4, 6, 3,\n",
              "       4, 1, 1, 0, 1, 7, 1, 2, 6, 6, 1, 3, 2, 4, 4, 2, 0, 4, 2, 3, 2, 5,\n",
              "       6, 6, 7, 2, 5, 5, 3, 4, 2, 7, 5, 7, 6, 5, 3, 5, 4, 6, 3, 7, 6, 2,\n",
              "       2, 0, 4, 5, 1, 1, 6, 7, 2, 3, 1, 1, 5, 1, 0, 2, 7, 2, 5, 5, 5, 6,\n",
              "       2, 0, 1, 7, 6, 2, 0, 4, 3, 7, 0, 2, 7, 3, 1, 2, 5, 6, 6, 7, 3, 2,\n",
              "       4, 6, 1, 3, 3, 1, 7, 6, 5, 5, 6, 3, 2, 2, 1, 2, 4, 6, 3, 2, 7, 2,\n",
              "       7, 4, 1, 5, 2, 7, 2, 2, 6, 2, 4, 3, 6, 4, 1, 1, 0, 2, 7, 3, 5, 4,\n",
              "       4, 4, 3, 7, 7, 6, 1, 7, 1, 7, 7, 3, 2, 5, 7, 6, 1, 1, 0, 0, 4, 1,\n",
              "       3, 5, 6, 5, 5, 1, 2, 7, 5, 4, 6, 3, 6, 6, 2, 3, 0, 6, 5, 6, 3, 1,\n",
              "       6, 6, 0, 3, 7, 2, 4, 2, 6, 7, 1, 5, 2, 2, 4, 7, 2, 4, 2, 2, 5, 7,\n",
              "       7, 4, 0, 6, 1, 3, 6, 2, 7, 5, 5, 3, 3, 7, 5, 6, 6, 0, 1, 6, 5, 3,\n",
              "       1, 1, 4, 1, 7, 5, 4, 6, 0, 2, 2, 5, 0, 1, 1, 3, 0, 7, 1, 0, 7, 6,\n",
              "       0, 7, 2, 4, 5, 7, 4, 5, 4, 3, 2, 4, 7, 4, 4, 1, 5, 0, 2, 7, 7, 5,\n",
              "       4, 4, 5, 0, 6, 2, 4, 1, 3, 7, 1, 7, 3, 5, 2, 0, 2, 1, 7, 2, 6, 6,\n",
              "       2, 3, 5, 2, 2, 4, 7, 0, 4, 7, 5, 4, 4, 5, 5, 5, 4, 6, 3, 3, 4, 4,\n",
              "       4, 6, 6, 3, 2, 6, 5, 1, 2, 7, 3, 3, 2, 5, 7, 7, 6, 6, 0, 4, 3, 6,\n",
              "       0, 4, 1, 2, 7, 2, 7, 4, 4, 6, 3, 3, 7, 3, 1, 1, 6, 7, 3, 6, 6, 3,\n",
              "       6, 4, 1, 3, 1, 7, 7, 7, 1, 6, 1, 1, 1, 5, 2, 6, 6, 0, 7, 0, 0, 6,\n",
              "       3, 5, 3, 6, 6, 7, 6, 1, 0, 2, 2, 5, 7, 0, 5, 4, 1, 1, 2, 3, 6, 3,\n",
              "       7, 1, 7, 7, 7, 0, 1, 6, 3, 4, 6, 5, 6, 4, 3, 6, 3, 1, 7, 3, 5, 7,\n",
              "       6, 0, 3, 3, 4, 5, 1, 1])"
            ]
          },
          "metadata": {},
          "execution_count": 60
        }
      ]
    },
    {
      "cell_type": "code",
      "metadata": {
        "id": "FC1heRemQJHA"
      },
      "source": [
        "new_Ytest = y_test.astype(int)"
      ],
      "execution_count": null,
      "outputs": []
    },
    {
      "cell_type": "code",
      "metadata": {
        "id": "65ZqfKMHQNBY",
        "colab": {
          "base_uri": "https://localhost:8080/"
        },
        "outputId": "a4215e2e-f16a-4fba-e23e-3bee12efcdc6"
      },
      "source": [
        "new_Ytest"
      ],
      "execution_count": null,
      "outputs": [
        {
          "output_type": "execute_result",
          "data": {
            "text/plain": [
              "array([7, 4, 4, 1, 7, 0, 2, 6, 4, 7, 0, 4, 3, 2, 4, 7, 1, 7, 1, 7, 4, 4,\n",
              "       7, 6, 3, 1, 5, 2, 2, 1, 5, 5, 2, 5, 3, 1, 6, 0, 2, 6, 4, 7, 6, 3,\n",
              "       3, 7, 3, 4, 1, 2, 5, 2, 7, 3, 6, 3, 5, 6, 3, 5, 7, 5, 6, 3, 2, 2,\n",
              "       3, 1, 4, 2, 7, 0, 7, 1, 6, 1, 4, 5, 3, 2, 2, 4, 3, 5, 5, 3, 6, 6,\n",
              "       0, 3, 3, 6, 6, 3, 1, 7, 2, 2, 7, 7, 1, 5, 3, 1, 6, 7, 3, 3, 7, 2,\n",
              "       6, 2, 0, 4, 2, 4, 3, 0, 7, 6, 3, 5, 5, 6, 5, 6, 5, 1, 2, 5, 4, 6,\n",
              "       0, 1, 5, 2, 0, 5, 7, 6, 5, 4, 5, 1, 1, 5, 6, 5, 1, 7, 0, 3, 5, 1,\n",
              "       4, 2, 1, 5, 1, 3, 7, 0, 4, 4, 7, 4, 2, 7, 6, 7, 1, 4, 5, 2, 4, 0,\n",
              "       6, 5, 6, 5, 6, 5, 4, 4, 7, 7, 7, 7, 4, 7, 0, 4, 3, 7, 3, 4, 7, 0,\n",
              "       4, 6, 5, 4, 7, 7, 5, 5, 3, 6, 7, 7, 1, 6, 4, 4, 3, 6, 6, 2, 7, 4,\n",
              "       1, 4, 4, 1, 6, 5, 2, 4, 2, 5, 1, 5, 5, 6, 1, 3, 3, 3, 1, 1, 1, 6,\n",
              "       1, 6, 7, 2, 2, 2, 6, 3, 2, 5, 5, 2, 3, 7, 5, 1, 2, 5, 4, 7, 6, 0,\n",
              "       0, 5, 1, 2, 3, 3, 1, 2, 1, 2, 3, 7, 7, 6, 7, 6, 1, 5, 7, 2, 3, 5,\n",
              "       7, 7, 6, 6, 5, 4, 4, 5, 4, 6, 3, 6, 0, 3, 0, 3, 7, 3, 4, 1, 6, 2,\n",
              "       6, 4, 7, 6, 3, 0, 4, 2, 3, 2, 2, 4, 1, 2, 3, 0, 1, 6, 2, 6, 7, 2,\n",
              "       7, 0, 5, 4, 7, 6, 4, 4, 1, 2, 3, 1, 3, 6, 7, 6, 6, 5, 7, 3, 4, 7,\n",
              "       4, 5, 6, 3, 2, 4, 0, 5, 4, 1, 6, 4, 4, 0, 3, 4, 6, 3, 2, 3, 2, 4,\n",
              "       6, 5, 7, 7, 3, 1, 3, 6, 4, 7, 3, 6, 4, 6, 4, 2, 1, 6, 2, 1, 2, 1,\n",
              "       1, 5, 4, 3, 5, 1, 7, 6, 1, 2, 5, 3, 5, 4, 6, 3, 3, 0, 2, 5, 7, 3,\n",
              "       2, 5, 2, 5, 7, 5, 1, 6, 7, 1, 1, 6, 7, 6, 1, 0, 5, 6, 3, 3, 1, 3,\n",
              "       2, 7, 6, 2, 5, 3, 7, 7, 1, 0, 4, 7, 7, 4, 2, 4, 6, 0, 4, 1, 4, 5,\n",
              "       7, 6, 6, 7, 6, 5, 1, 2, 5, 7, 4, 0, 5, 4, 2, 3, 1, 0, 5, 7, 5, 0,\n",
              "       3, 7, 1, 5, 4, 1, 5, 2, 3, 7, 6, 6, 4, 4, 6, 1, 7, 2, 2, 2, 7, 5,\n",
              "       5, 1, 6, 4, 5, 3, 4, 2, 5, 2, 3, 4, 4, 6, 2, 7, 3, 4, 5, 4, 6, 3,\n",
              "       4, 1, 1, 0, 1, 7, 1, 2, 6, 6, 1, 3, 2, 4, 4, 2, 0, 4, 2, 3, 2, 5,\n",
              "       6, 6, 7, 2, 5, 5, 3, 4, 2, 7, 5, 7, 6, 5, 3, 5, 4, 6, 3, 7, 6, 2,\n",
              "       2, 0, 4, 5, 1, 1, 6, 7, 2, 3, 1, 1, 5, 1, 0, 2, 7, 2, 5, 5, 5, 6,\n",
              "       2, 0, 1, 7, 6, 2, 0, 4, 3, 7, 0, 2, 7, 3, 1, 2, 5, 6, 6, 7, 3, 2,\n",
              "       4, 6, 1, 3, 3, 1, 7, 6, 5, 5, 6, 3, 2, 2, 1, 2, 4, 6, 3, 2, 7, 2,\n",
              "       7, 4, 1, 5, 2, 7, 2, 2, 6, 2, 4, 3, 6, 4, 1, 1, 0, 2, 7, 3, 5, 4,\n",
              "       4, 4, 3, 7, 7, 6, 1, 7, 1, 7, 7, 3, 2, 5, 7, 6, 1, 1, 0, 0, 4, 1,\n",
              "       3, 5, 6, 5, 5, 1, 2, 7, 5, 4, 6, 3, 6, 6, 2, 3, 0, 6, 5, 6, 3, 1,\n",
              "       6, 6, 0, 3, 7, 2, 4, 2, 6, 7, 1, 5, 2, 2, 4, 7, 2, 4, 2, 2, 5, 7,\n",
              "       7, 4, 0, 6, 1, 3, 6, 2, 7, 5, 5, 3, 3, 7, 5, 6, 6, 0, 1, 6, 5, 3,\n",
              "       1, 1, 4, 1, 7, 5, 4, 6, 0, 2, 2, 5, 0, 1, 1, 3, 0, 7, 1, 0, 7, 6,\n",
              "       0, 7, 2, 4, 5, 7, 4, 5, 4, 3, 2, 4, 7, 4, 4, 1, 5, 0, 2, 7, 7, 5,\n",
              "       4, 4, 5, 0, 6, 2, 4, 1, 3, 7, 1, 7, 3, 5, 2, 0, 2, 1, 7, 2, 6, 6,\n",
              "       2, 3, 5, 2, 2, 4, 7, 0, 4, 7, 5, 4, 4, 5, 5, 5, 4, 6, 3, 3, 4, 4,\n",
              "       4, 6, 6, 3, 2, 6, 5, 1, 2, 7, 3, 3, 2, 5, 7, 7, 6, 6, 0, 4, 3, 6,\n",
              "       0, 4, 1, 2, 7, 2, 7, 4, 4, 6, 3, 3, 7, 3, 1, 1, 6, 7, 3, 6, 6, 3,\n",
              "       6, 4, 1, 3, 1, 7, 7, 7, 1, 6, 1, 1, 1, 5, 2, 6, 6, 0, 7, 0, 0, 6,\n",
              "       3, 5, 3, 6, 6, 7, 6, 1, 0, 2, 2, 5, 7, 0, 5, 4, 1, 1, 2, 3, 6, 3,\n",
              "       7, 1, 7, 7, 7, 0, 1, 6, 3, 4, 6, 5, 6, 4, 3, 6, 3, 1, 7, 3, 5, 7,\n",
              "       6, 0, 3, 3, 4, 5, 1, 1])"
            ]
          },
          "metadata": {},
          "execution_count": 62
        }
      ]
    },
    {
      "cell_type": "code",
      "metadata": {
        "id": "wK2gsnN-QO1C",
        "colab": {
          "base_uri": "https://localhost:8080/"
        },
        "outputId": "9989e78a-56f1-4bbf-a710-7129a5eb7eee"
      },
      "source": [
        "from sklearn.metrics import classification_report\n",
        "report = classification_report(new_Ytest, predictions)\n",
        "print(report)"
      ],
      "execution_count": null,
      "outputs": [
        {
          "output_type": "stream",
          "name": "stdout",
          "text": [
            "              precision    recall  f1-score   support\n",
            "\n",
            "           0       0.79      0.84      0.81        62\n",
            "           1       0.86      0.83      0.84       118\n",
            "           2       0.76      0.76      0.76       125\n",
            "           3       0.73      0.77      0.75       123\n",
            "           4       0.79      0.82      0.80       125\n",
            "           5       0.80      0.84      0.82       123\n",
            "           6       0.80      0.70      0.75       140\n",
            "           7       0.84      0.83      0.83       138\n",
            "\n",
            "    accuracy                           0.79       954\n",
            "   macro avg       0.79      0.80      0.80       954\n",
            "weighted avg       0.80      0.79      0.79       954\n",
            "\n"
          ]
        }
      ]
    },
    {
      "cell_type": "code",
      "metadata": {
        "id": "XipKuFRTQSFj",
        "colab": {
          "base_uri": "https://localhost:8080/"
        },
        "outputId": "4de12a34-554c-4771-cdd2-5db0b19ed464"
      },
      "source": [
        "from sklearn.metrics import confusion_matrix\n",
        "matrix = confusion_matrix(new_Ytest, predictions)\n",
        "print (matrix)\n",
        "\n",
        "# 0 = neutral, 1 = calm, 2 = happy, 3 = sad, 4 = angry, 5 = fearful, 6 = disgust, 7 = surprised"
      ],
      "execution_count": null,
      "outputs": [
        {
          "output_type": "stream",
          "name": "stdout",
          "text": [
            "[[ 52   4   4   0   0   0   0   2]\n",
            " [  4  98   2   8   0   4   0   2]\n",
            " [  2   4  95   2  12   4   4   2]\n",
            " [  4   2   4  95   4   4   4   6]\n",
            " [  0   0   6   4 103   2  10   0]\n",
            " [  0   0   2   8   4 103   4   2]\n",
            " [  4   4   4   8   6   8  98   8]\n",
            " [  0   2   8   6   2   4   2 114]]\n"
          ]
        }
      ]
    },
    {
      "cell_type": "code",
      "metadata": {
        "id": "ORm3pz9NQdlW",
        "colab": {
          "base_uri": "https://localhost:8080/"
        },
        "outputId": "9da98ae9-3840-4732-a91a-105fcd4a5cc6"
      },
      "source": [
        "model.save('testing10_model.h5')\n",
        "print(\"MODEL SAVED\")"
      ],
      "execution_count": null,
      "outputs": [
        {
          "output_type": "stream",
          "name": "stdout",
          "text": [
            "MODEL SAVED\n"
          ]
        }
      ]
    },
    {
      "cell_type": "code",
      "metadata": {
        "id": "6aFHzp7PQvMJ",
        "colab": {
          "base_uri": "https://localhost:8080/"
        },
        "outputId": "b7a9b2fe-1704-4319-f770-70ce6edfe90f"
      },
      "source": [
        "new_model=keras.models.load_model('testing10_model.h5')\n",
        "new_model.summary()"
      ],
      "execution_count": null,
      "outputs": [
        {
          "output_type": "stream",
          "name": "stdout",
          "text": [
            "Model: \"sequential_17\"\n",
            "_________________________________________________________________\n",
            " Layer (type)                Output Shape              Param #   \n",
            "=================================================================\n",
            " conv1d_51 (Conv1D)          (None, 40, 64)            384       \n",
            "                                                                 \n",
            " activation_68 (Activation)  (None, 40, 64)            0         \n",
            "                                                                 \n",
            " dropout_51 (Dropout)        (None, 40, 64)            0         \n",
            "                                                                 \n",
            " max_pooling1d_34 (MaxPoolin  (None, 10, 64)           0         \n",
            " g1D)                                                            \n",
            "                                                                 \n",
            " conv1d_52 (Conv1D)          (None, 10, 128)           41088     \n",
            "                                                                 \n",
            " activation_69 (Activation)  (None, 10, 128)           0         \n",
            "                                                                 \n",
            " dropout_52 (Dropout)        (None, 10, 128)           0         \n",
            "                                                                 \n",
            " max_pooling1d_35 (MaxPoolin  (None, 2, 128)           0         \n",
            " g1D)                                                            \n",
            "                                                                 \n",
            " conv1d_53 (Conv1D)          (None, 2, 256)            164096    \n",
            "                                                                 \n",
            " activation_70 (Activation)  (None, 2, 256)            0         \n",
            "                                                                 \n",
            " dropout_53 (Dropout)        (None, 2, 256)            0         \n",
            "                                                                 \n",
            " flatten_17 (Flatten)        (None, 512)               0         \n",
            "                                                                 \n",
            " dense_17 (Dense)            (None, 8)                 4104      \n",
            "                                                                 \n",
            " activation_71 (Activation)  (None, 8)                 0         \n",
            "                                                                 \n",
            "=================================================================\n",
            "Total params: 209,672\n",
            "Trainable params: 209,672\n",
            "Non-trainable params: 0\n",
            "_________________________________________________________________\n"
          ]
        }
      ]
    },
    {
      "cell_type": "code",
      "metadata": {
        "id": "whzXUxB5Q06g",
        "colab": {
          "base_uri": "https://localhost:8080/"
        },
        "outputId": "06d73fcb-ef4d-450d-b7fe-48c58363e798"
      },
      "source": [
        "loss, acc = new_model.evaluate(x_testcnn, y_test)\n",
        "print(\" accuracy: {:5.2f}%\".format(100*acc))"
      ],
      "execution_count": null,
      "outputs": [
        {
          "output_type": "stream",
          "name": "stdout",
          "text": [
            "30/30 [==============================] - 0s 5ms/step - loss: 0.8434 - accuracy: 0.7233\n",
            " accuracy: 72.33%\n"
          ]
        }
      ]
    },
    {
      "cell_type": "code",
      "source": [
        ""
      ],
      "metadata": {
        "id": "2TYpXhpgpGaV"
      },
      "execution_count": null,
      "outputs": []
    }
  ]
}