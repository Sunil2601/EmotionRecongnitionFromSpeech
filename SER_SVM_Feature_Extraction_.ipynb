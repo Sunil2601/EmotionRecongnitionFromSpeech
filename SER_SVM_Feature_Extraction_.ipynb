{
  "cells": [
    {
      "cell_type": "markdown",
      "metadata": {
        "id": "OXWJ27Ks51Xx"
      },
      "source": [
        "# Speech Emotion Recognition - Feature Extraction\n",
        "\n",
        "Databases used\n",
        "\n",
        "* The Ryerson Audio-Visual Database of Emotional Speech and Song (RAVDESS)\n",
        "* Toronto emotional speech set (TESS)"
      ]
    },
    {
      "cell_type": "code",
      "execution_count": null,
      "metadata": {
        "colab": {
          "base_uri": "https://localhost:8080/"
        },
        "id": "phm5N0H3wHxw",
        "outputId": "a8c6c606-e120-4d0e-bd39-b55f0c9686e4"
      },
      "outputs": [
        {
          "name": "stdout",
          "output_type": "stream",
          "text": [
            "Mounted at /content/drive/\n"
          ]
        }
      ],
      "source": [
        "from google.colab import drive\n",
        "drive.mount('/content/drive/')\n",
        "from google.colab import files"
      ]
    },
    {
      "cell_type": "markdown",
      "metadata": {
        "id": "jk8Zr2gS51X1"
      },
      "source": [
        "### Import Libraries\n",
        "\n",
        "Import necessary libraries"
      ]
    },
    {
      "cell_type": "code",
      "execution_count": null,
      "metadata": {
        "id": "4Psuv3UPLaPR"
      },
      "outputs": [],
      "source": [
        "import glob\n",
        "import os\n",
        "import librosa\n",
        "import time\n",
        "import numpy as np\n",
        "import pandas as pd"
      ]
    },
    {
      "cell_type": "markdown",
      "metadata": {
        "id": "rBpIgx9bkdgJ"
      },
      "source": [
        "### Load all files\n",
        "\n",
        "We will create our numpy array extracting Mel-frequency cepstral coefficients (MFCCs) while the classes to predict will be extracted from the name of the file."
      ]
    },
    {
      "cell_type": "markdown",
      "metadata": {
        "id": "AzYpykGT51X3"
      },
      "source": [
        "#### Defining emotions to classify \n",
        "\n",
        "Selecting the emotions to be classified. Note that the emotions 'neutral', 'calm' and 'surprised' are only found in RAVDESS dataset and 'pleasantly surprised' or 'ps' is only available in TESS dataset. To combine all the emotions from both datasets into 8 emotion classes, we have changed 'pleasantly surprised' to 'surprised' and 'fearful' to 'fear'"
      ]
    },
    {
      "cell_type": "code",
      "execution_count": null,
      "metadata": {
        "id": "s16XwP5LK8a3"
      },
      "outputs": [],
      "source": [
        "emotions={\n",
        "  '01':'neutral',\n",
        "  '02':'calm',\n",
        "  '03':'happy',\n",
        "  '04':'sad',\n",
        "  '05':'angry',\n",
        "  '06':'fear',\n",
        "  '07':'disgust',\n",
        "  '08':'surprised'\n",
        "}\n",
        "\n",
        "#defined tess emotions to test on TESS dataset only\n",
        "tess_emotions=['angry','disgust','fear','ps','happy','sad']\n",
        "\n",
        "##defined RAVDESS emotions to test on RAVDESS dataset only\n",
        "ravdess_emotions=['neutral','calm','angry', 'happy','disgust','sad','fear','surprised']\n",
        "\n",
        "observed_emotions = ['sad','angry','happy','disgust','surprised','neutral','calm','fear']"
      ]
    },
    {
      "cell_type": "markdown",
      "metadata": {
        "id": "1HSyNujU51X4"
      },
      "source": [
        "#### Feature extraction\n",
        "\n",
        "Using librosa package we can extract the MFCC features. This function loads the file give the file path and after resampling and computing MFCC features, returns the features. We have selected the no. of MFCCs as 40.\n",
        "\n",
        "https://librosa.org/librosa/generated/librosa.feature.mfcc.html"
      ]
    },
    {
      "cell_type": "code",
      "execution_count": null,
      "metadata": {
        "id": "h9a81pkWLCs1"
      },
      "outputs": [],
      "source": [
        "def extract_feature(file_name, mfcc):\n",
        "    result=[]\n",
        "    X, sample_rate = librosa.load(os.path.join(file_name), res_type='kaiser_fast')\n",
        "    if mfcc:\n",
        "        mfccs=np.mean(librosa.feature.mfcc(y=X, sr=sample_rate, n_mfcc=40).T, axis=0)\n",
        "        result=np.hstack((result, mfccs))\n",
        "    return result"
      ]
    },
    {
      "cell_type": "markdown",
      "metadata": {
        "id": "VYdeJbtf51X5"
      },
      "source": [
        "#### Choosing a dataset\n",
        "\n",
        "Choose the dataset(s) you want to load using the following function"
      ]
    },
    {
      "cell_type": "code",
      "execution_count": null,
      "metadata": {
        "id": "JLcDRped51X5"
      },
      "outputs": [],
      "source": [
        "def dataset_options():\n",
        "    # choose datasets\n",
        "    ravdess = True\n",
        "    tess = True\n",
        "    ravdess_speech = False\n",
        "    ravdess_song = False\n",
        "    data = {'ravdess':ravdess, 'ravdess_speech':ravdess_speech, 'ravdess_song':ravdess_song, 'tess':tess}\n",
        "    print(data)\n",
        "    return data"
      ]
    },
    {
      "cell_type": "markdown",
      "metadata": {
        "id": "x66tW2M951X6"
      },
      "source": [
        "#### Load data\n",
        "\n",
        "Load data from the datasets required which is obtained by calling the function dataset__options(). Extract features from each file with the selected emotions in chosen datasets using the extract_feature() function defined."
      ]
    },
    {
      "cell_type": "code",
      "execution_count": null,
      "metadata": {
        "id": "RaV2hMcxLGZd"
      },
      "outputs": [],
      "source": [
        "\n",
        "def load_data(test_size=0.2): \n",
        "    x,y=[],[]\n",
        "    \n",
        "    # feature to extract\n",
        "    mfcc = True\n",
        "    \n",
        "    data = dataset_options()\n",
        "    paths = []\n",
        "    if data['ravdess']:\n",
        "        paths.append(\"/content/drive/MyDrive/Datasets/RAVDESS/*/Actor_*/*.wav\")\n",
        "    elif data['ravdess_speech']:\n",
        "        paths.append(\"/content/drive/MyDrive/Datasets/RAVDESS/Speech/Actor_*/*.wav\")\n",
        "    elif data['ravdess_song']:\n",
        "        paths.append(\"/content/drive/MyDrive/Datasets/RAVDESS/Song/Actor_*/*.wav\")\n",
        "        \n",
        "    for path in paths:\n",
        "        for file in glob.glob(path):\n",
        "            file_name=os.path.basename(file)\n",
        "            emotion=emotions[file_name.split(\"-\")[2]] #to get emotion according to filename. dictionary emotions is defined above.\n",
        "            if emotion not in observed_emotions: #options observed_emotions - RAVDESS and TESS, ravdess_emotions for RAVDESS only\n",
        "                continue\n",
        "            feature=extract_feature(file, mfcc)\n",
        "            x.append(feature)\n",
        "            y.append(emotion)\n",
        "            #\"..\\Datasets\\TESS\\*AF_*\\*.wav\"\n",
        "    if data['tess']:\n",
        "        for file in glob.glob(\"/content/drive/MyDrive/Datasets/TESS/*AF_*/*.wav\"):\n",
        "            file_name=os.path.basename(file)\n",
        "            emotion=file_name.split(\"_\")[2][:-4] #split and remove .wav\n",
        "            if emotion == 'ps':\n",
        "                emotion = 'surprised'\n",
        "            if emotion not in observed_emotions: #options observed_emotions - RAVDESS and TESS, ravdess_emotions for RAVDESS only\n",
        "                continue\n",
        "            feature=extract_feature(file, mfcc)\n",
        "            x.append(feature)\n",
        "            y.append(emotion)\n",
        "    return {\"X\":x,\"y\":y}"
      ]
    },
    {
      "cell_type": "code",
      "execution_count": null,
      "metadata": {
        "colab": {
          "background_save": true,
          "base_uri": "https://localhost:8080/"
        },
        "id": "LVbx68UMLMAT",
        "outputId": "b8864d19-1eff-4e6f-aebc-3687c6ff54af"
      },
      "outputs": [
        {
          "name": "stdout",
          "output_type": "stream",
          "text": [
            "{'ravdess': True, 'ravdess_speech': False, 'ravdess_song': False, 'tess': True}\n",
            "--- Data loaded. Loading time: 1674.409150838852 seconds ---\n"
          ]
        }
      ],
      "source": [
        "start_time = time.time()\n",
        "\n",
        "Trial_dict = load_data(test_size = 0.3)\n",
        "\n",
        "print(\"--- Data loaded. Loading time: %s seconds ---\" % (time.time() - start_time))"
      ]
    },
    {
      "cell_type": "code",
      "execution_count": null,
      "metadata": {
        "id": "-WAO-j4iLPSn"
      },
      "outputs": [],
      "source": [
        "X = pd.DataFrame(Trial_dict[\"X\"])\n",
        "y = pd.DataFrame(Trial_dict[\"y\"])"
      ]
    },
    {
      "cell_type": "code",
      "execution_count": null,
      "metadata": {
        "colab": {
          "base_uri": "https://localhost:8080/"
        },
        "id": "Huw2Md1XLQZm",
        "outputId": "b9758664-09a4-458c-e6d1-8f7a6b0b065f"
      },
      "outputs": [
        {
          "output_type": "execute_result",
          "data": {
            "text/plain": [
              "((5690, 40), (5690, 1))"
            ]
          },
          "metadata": {},
          "execution_count": 9
        }
      ],
      "source": [
        "X.shape, y.shape"
      ]
    },
    {
      "cell_type": "code",
      "execution_count": null,
      "metadata": {
        "id": "UXu3g6U351X8"
      },
      "outputs": [],
      "source": [
        "#renaming the label column to emotion\n",
        "y=y.rename(columns= {0: 'emotion'})"
      ]
    },
    {
      "cell_type": "code",
      "execution_count": null,
      "metadata": {
        "id": "U9M0IFsS51X8"
      },
      "outputs": [],
      "source": [
        "#concatinating the attributes and label into a single dataframe\n",
        "data = pd.concat([X, y], axis =1)"
      ]
    },
    {
      "cell_type": "code",
      "execution_count": null,
      "metadata": {
        "colab": {
          "base_uri": "https://localhost:8080/",
          "height": 236
        },
        "id": "pN53TXhA51X8",
        "outputId": "a0778bd4-4c5c-4eaa-989a-a21132c568ea"
      },
      "outputs": [
        {
          "output_type": "execute_result",
          "data": {
            "text/plain": [
              "            0          1          2          3         4         5         6  \\\n",
              "0 -627.046631  65.364540  -8.032422  10.397017  9.578342 -3.724506 -5.984852   \n",
              "1 -641.490479  48.805473  -3.787592  13.445629  2.228184  5.252010 -4.594568   \n",
              "2 -688.379822  64.742241   1.362453  14.166891  7.826113  2.353832 -2.716224   \n",
              "3 -655.858582  48.241310  -0.502876   8.743422  0.652527  5.261185 -8.111614   \n",
              "4 -406.141663  25.754354 -20.779034   0.016748 -8.752940 -2.349652 -9.770489   \n",
              "\n",
              "          7          8         9  ...        31        32        33        34  \\\n",
              "0 -1.876003 -14.147870 -1.455301  ... -1.966885 -2.954496 -1.910493 -2.532544   \n",
              "1 -2.340264  -9.027803 -2.416097  ... -0.108201 -1.965884 -2.345165 -3.696558   \n",
              "2  1.706661  -7.994302  0.059230  ... -0.821121 -2.257222 -2.710450 -1.786572   \n",
              "3 -4.003963 -12.645684 -2.094928  ... -1.871398 -3.000573 -2.197060 -1.652579   \n",
              "4 -4.270754 -10.507915 -3.972287  ...  0.216467 -1.657515 -0.840737 -1.159853   \n",
              "\n",
              "         35        36        37        38        39  emotion  \n",
              "0 -0.590904 -1.193460 -0.400303 -0.709256  0.751061  neutral  \n",
              "1 -1.473303 -2.498346 -1.452667 -0.622195 -1.455590      sad  \n",
              "2  0.135882  0.989668  0.331654 -1.502874 -2.535933     calm  \n",
              "3  0.685930  3.201931  4.583522  5.818406  4.507360      sad  \n",
              "4  0.009085  1.541708  0.787645  0.555737  0.312377    angry  \n",
              "\n",
              "[5 rows x 41 columns]"
            ],
            "text/html": [
              "\n",
              "  <div id=\"df-165e4fb9-2ec8-4231-8d09-e85aee0e848e\">\n",
              "    <div class=\"colab-df-container\">\n",
              "      <div>\n",
              "<style scoped>\n",
              "    .dataframe tbody tr th:only-of-type {\n",
              "        vertical-align: middle;\n",
              "    }\n",
              "\n",
              "    .dataframe tbody tr th {\n",
              "        vertical-align: top;\n",
              "    }\n",
              "\n",
              "    .dataframe thead th {\n",
              "        text-align: right;\n",
              "    }\n",
              "</style>\n",
              "<table border=\"1\" class=\"dataframe\">\n",
              "  <thead>\n",
              "    <tr style=\"text-align: right;\">\n",
              "      <th></th>\n",
              "      <th>0</th>\n",
              "      <th>1</th>\n",
              "      <th>2</th>\n",
              "      <th>3</th>\n",
              "      <th>4</th>\n",
              "      <th>5</th>\n",
              "      <th>6</th>\n",
              "      <th>7</th>\n",
              "      <th>8</th>\n",
              "      <th>9</th>\n",
              "      <th>...</th>\n",
              "      <th>31</th>\n",
              "      <th>32</th>\n",
              "      <th>33</th>\n",
              "      <th>34</th>\n",
              "      <th>35</th>\n",
              "      <th>36</th>\n",
              "      <th>37</th>\n",
              "      <th>38</th>\n",
              "      <th>39</th>\n",
              "      <th>emotion</th>\n",
              "    </tr>\n",
              "  </thead>\n",
              "  <tbody>\n",
              "    <tr>\n",
              "      <th>0</th>\n",
              "      <td>-627.046631</td>\n",
              "      <td>65.364540</td>\n",
              "      <td>-8.032422</td>\n",
              "      <td>10.397017</td>\n",
              "      <td>9.578342</td>\n",
              "      <td>-3.724506</td>\n",
              "      <td>-5.984852</td>\n",
              "      <td>-1.876003</td>\n",
              "      <td>-14.147870</td>\n",
              "      <td>-1.455301</td>\n",
              "      <td>...</td>\n",
              "      <td>-1.966885</td>\n",
              "      <td>-2.954496</td>\n",
              "      <td>-1.910493</td>\n",
              "      <td>-2.532544</td>\n",
              "      <td>-0.590904</td>\n",
              "      <td>-1.193460</td>\n",
              "      <td>-0.400303</td>\n",
              "      <td>-0.709256</td>\n",
              "      <td>0.751061</td>\n",
              "      <td>neutral</td>\n",
              "    </tr>\n",
              "    <tr>\n",
              "      <th>1</th>\n",
              "      <td>-641.490479</td>\n",
              "      <td>48.805473</td>\n",
              "      <td>-3.787592</td>\n",
              "      <td>13.445629</td>\n",
              "      <td>2.228184</td>\n",
              "      <td>5.252010</td>\n",
              "      <td>-4.594568</td>\n",
              "      <td>-2.340264</td>\n",
              "      <td>-9.027803</td>\n",
              "      <td>-2.416097</td>\n",
              "      <td>...</td>\n",
              "      <td>-0.108201</td>\n",
              "      <td>-1.965884</td>\n",
              "      <td>-2.345165</td>\n",
              "      <td>-3.696558</td>\n",
              "      <td>-1.473303</td>\n",
              "      <td>-2.498346</td>\n",
              "      <td>-1.452667</td>\n",
              "      <td>-0.622195</td>\n",
              "      <td>-1.455590</td>\n",
              "      <td>sad</td>\n",
              "    </tr>\n",
              "    <tr>\n",
              "      <th>2</th>\n",
              "      <td>-688.379822</td>\n",
              "      <td>64.742241</td>\n",
              "      <td>1.362453</td>\n",
              "      <td>14.166891</td>\n",
              "      <td>7.826113</td>\n",
              "      <td>2.353832</td>\n",
              "      <td>-2.716224</td>\n",
              "      <td>1.706661</td>\n",
              "      <td>-7.994302</td>\n",
              "      <td>0.059230</td>\n",
              "      <td>...</td>\n",
              "      <td>-0.821121</td>\n",
              "      <td>-2.257222</td>\n",
              "      <td>-2.710450</td>\n",
              "      <td>-1.786572</td>\n",
              "      <td>0.135882</td>\n",
              "      <td>0.989668</td>\n",
              "      <td>0.331654</td>\n",
              "      <td>-1.502874</td>\n",
              "      <td>-2.535933</td>\n",
              "      <td>calm</td>\n",
              "    </tr>\n",
              "    <tr>\n",
              "      <th>3</th>\n",
              "      <td>-655.858582</td>\n",
              "      <td>48.241310</td>\n",
              "      <td>-0.502876</td>\n",
              "      <td>8.743422</td>\n",
              "      <td>0.652527</td>\n",
              "      <td>5.261185</td>\n",
              "      <td>-8.111614</td>\n",
              "      <td>-4.003963</td>\n",
              "      <td>-12.645684</td>\n",
              "      <td>-2.094928</td>\n",
              "      <td>...</td>\n",
              "      <td>-1.871398</td>\n",
              "      <td>-3.000573</td>\n",
              "      <td>-2.197060</td>\n",
              "      <td>-1.652579</td>\n",
              "      <td>0.685930</td>\n",
              "      <td>3.201931</td>\n",
              "      <td>4.583522</td>\n",
              "      <td>5.818406</td>\n",
              "      <td>4.507360</td>\n",
              "      <td>sad</td>\n",
              "    </tr>\n",
              "    <tr>\n",
              "      <th>4</th>\n",
              "      <td>-406.141663</td>\n",
              "      <td>25.754354</td>\n",
              "      <td>-20.779034</td>\n",
              "      <td>0.016748</td>\n",
              "      <td>-8.752940</td>\n",
              "      <td>-2.349652</td>\n",
              "      <td>-9.770489</td>\n",
              "      <td>-4.270754</td>\n",
              "      <td>-10.507915</td>\n",
              "      <td>-3.972287</td>\n",
              "      <td>...</td>\n",
              "      <td>0.216467</td>\n",
              "      <td>-1.657515</td>\n",
              "      <td>-0.840737</td>\n",
              "      <td>-1.159853</td>\n",
              "      <td>0.009085</td>\n",
              "      <td>1.541708</td>\n",
              "      <td>0.787645</td>\n",
              "      <td>0.555737</td>\n",
              "      <td>0.312377</td>\n",
              "      <td>angry</td>\n",
              "    </tr>\n",
              "  </tbody>\n",
              "</table>\n",
              "<p>5 rows × 41 columns</p>\n",
              "</div>\n",
              "      <button class=\"colab-df-convert\" onclick=\"convertToInteractive('df-165e4fb9-2ec8-4231-8d09-e85aee0e848e')\"\n",
              "              title=\"Convert this dataframe to an interactive table.\"\n",
              "              style=\"display:none;\">\n",
              "        \n",
              "  <svg xmlns=\"http://www.w3.org/2000/svg\" height=\"24px\"viewBox=\"0 0 24 24\"\n",
              "       width=\"24px\">\n",
              "    <path d=\"M0 0h24v24H0V0z\" fill=\"none\"/>\n",
              "    <path d=\"M18.56 5.44l.94 2.06.94-2.06 2.06-.94-2.06-.94-.94-2.06-.94 2.06-2.06.94zm-11 1L8.5 8.5l.94-2.06 2.06-.94-2.06-.94L8.5 2.5l-.94 2.06-2.06.94zm10 10l.94 2.06.94-2.06 2.06-.94-2.06-.94-.94-2.06-.94 2.06-2.06.94z\"/><path d=\"M17.41 7.96l-1.37-1.37c-.4-.4-.92-.59-1.43-.59-.52 0-1.04.2-1.43.59L10.3 9.45l-7.72 7.72c-.78.78-.78 2.05 0 2.83L4 21.41c.39.39.9.59 1.41.59.51 0 1.02-.2 1.41-.59l7.78-7.78 2.81-2.81c.8-.78.8-2.07 0-2.86zM5.41 20L4 18.59l7.72-7.72 1.47 1.35L5.41 20z\"/>\n",
              "  </svg>\n",
              "      </button>\n",
              "      \n",
              "  <style>\n",
              "    .colab-df-container {\n",
              "      display:flex;\n",
              "      flex-wrap:wrap;\n",
              "      gap: 12px;\n",
              "    }\n",
              "\n",
              "    .colab-df-convert {\n",
              "      background-color: #E8F0FE;\n",
              "      border: none;\n",
              "      border-radius: 50%;\n",
              "      cursor: pointer;\n",
              "      display: none;\n",
              "      fill: #1967D2;\n",
              "      height: 32px;\n",
              "      padding: 0 0 0 0;\n",
              "      width: 32px;\n",
              "    }\n",
              "\n",
              "    .colab-df-convert:hover {\n",
              "      background-color: #E2EBFA;\n",
              "      box-shadow: 0px 1px 2px rgba(60, 64, 67, 0.3), 0px 1px 3px 1px rgba(60, 64, 67, 0.15);\n",
              "      fill: #174EA6;\n",
              "    }\n",
              "\n",
              "    [theme=dark] .colab-df-convert {\n",
              "      background-color: #3B4455;\n",
              "      fill: #D2E3FC;\n",
              "    }\n",
              "\n",
              "    [theme=dark] .colab-df-convert:hover {\n",
              "      background-color: #434B5C;\n",
              "      box-shadow: 0px 1px 3px 1px rgba(0, 0, 0, 0.15);\n",
              "      filter: drop-shadow(0px 1px 2px rgba(0, 0, 0, 0.3));\n",
              "      fill: #FFFFFF;\n",
              "    }\n",
              "  </style>\n",
              "\n",
              "      <script>\n",
              "        const buttonEl =\n",
              "          document.querySelector('#df-165e4fb9-2ec8-4231-8d09-e85aee0e848e button.colab-df-convert');\n",
              "        buttonEl.style.display =\n",
              "          google.colab.kernel.accessAllowed ? 'block' : 'none';\n",
              "\n",
              "        async function convertToInteractive(key) {\n",
              "          const element = document.querySelector('#df-165e4fb9-2ec8-4231-8d09-e85aee0e848e');\n",
              "          const dataTable =\n",
              "            await google.colab.kernel.invokeFunction('convertToInteractive',\n",
              "                                                     [key], {});\n",
              "          if (!dataTable) return;\n",
              "\n",
              "          const docLinkHtml = 'Like what you see? Visit the ' +\n",
              "            '<a target=\"_blank\" href=https://colab.research.google.com/notebooks/data_table.ipynb>data table notebook</a>'\n",
              "            + ' to learn more about interactive tables.';\n",
              "          element.innerHTML = '';\n",
              "          dataTable['output_type'] = 'display_data';\n",
              "          await google.colab.output.renderOutput(dataTable, element);\n",
              "          const docLink = document.createElement('div');\n",
              "          docLink.innerHTML = docLinkHtml;\n",
              "          element.appendChild(docLink);\n",
              "        }\n",
              "      </script>\n",
              "    </div>\n",
              "  </div>\n",
              "  "
            ]
          },
          "metadata": {},
          "execution_count": 12
        }
      ],
      "source": [
        "data.head()"
      ]
    },
    {
      "cell_type": "markdown",
      "metadata": {
        "id": "eFVn3Zpy51X8"
      },
      "source": [
        "## Shuffling data"
      ]
    },
    {
      "cell_type": "code",
      "execution_count": null,
      "metadata": {
        "id": "LVRIU3Pf51X9"
      },
      "outputs": [],
      "source": [
        "#reindexing to shuffle the data at random\n",
        "data = data.reindex(np.random.permutation(data.index))"
      ]
    },
    {
      "cell_type": "code",
      "execution_count": null,
      "metadata": {
        "colab": {
          "base_uri": "https://localhost:8080/",
          "height": 17
        },
        "id": "9CYEWgEn51X9",
        "outputId": "07d35156-1774-4848-a389-cbf4f4506804"
      },
      "outputs": [
        {
          "output_type": "display_data",
          "data": {
            "text/plain": [
              "<IPython.core.display.Javascript object>"
            ],
            "application/javascript": [
              "\n",
              "    async function download(id, filename, size) {\n",
              "      if (!google.colab.kernel.accessAllowed) {\n",
              "        return;\n",
              "      }\n",
              "      const div = document.createElement('div');\n",
              "      const label = document.createElement('label');\n",
              "      label.textContent = `Downloading \"${filename}\": `;\n",
              "      div.appendChild(label);\n",
              "      const progress = document.createElement('progress');\n",
              "      progress.max = size;\n",
              "      div.appendChild(progress);\n",
              "      document.body.appendChild(div);\n",
              "\n",
              "      const buffers = [];\n",
              "      let downloaded = 0;\n",
              "\n",
              "      const channel = await google.colab.kernel.comms.open(id);\n",
              "      // Send a message to notify the kernel that we're ready.\n",
              "      channel.send({})\n",
              "\n",
              "      for await (const message of channel.messages) {\n",
              "        // Send a message to notify the kernel that we're ready.\n",
              "        channel.send({})\n",
              "        if (message.buffers) {\n",
              "          for (const buffer of message.buffers) {\n",
              "            buffers.push(buffer);\n",
              "            downloaded += buffer.byteLength;\n",
              "            progress.value = downloaded;\n",
              "          }\n",
              "        }\n",
              "      }\n",
              "      const blob = new Blob(buffers, {type: 'application/binary'});\n",
              "      const a = document.createElement('a');\n",
              "      a.href = window.URL.createObjectURL(blob);\n",
              "      a.download = filename;\n",
              "      div.appendChild(a);\n",
              "      a.click();\n",
              "      div.remove();\n",
              "    }\n",
              "  "
            ]
          },
          "metadata": {}
        },
        {
          "output_type": "display_data",
          "data": {
            "text/plain": [
              "<IPython.core.display.Javascript object>"
            ],
            "application/javascript": [
              "download(\"download_768b588e-18cb-4116-af40-3371eca020e6\", \"RAVTESS_MFCC_Observed.csv\", 4388597)"
            ]
          },
          "metadata": {}
        }
      ],
      "source": [
        "# Storing shuffled ravdess and tess data to avoid loading again\n",
        "data.to_csv(\"RAVTESS_MFCC_Observed.csv\")\n",
        "files.download('RAVTESS_MFCC_Observed.csv')"
      ]
    },
    {
      "cell_type": "code",
      "execution_count": null,
      "metadata": {
        "id": "2BZOsRnG51X9"
      },
      "outputs": [],
      "source": [
        ""
      ]
    }
  ],
  "metadata": {
    "colab": {
      "collapsed_sections": [],
      "name": "SER - SVM - Feature Extraction-.ipynb",
      "provenance": []
    },
    "kernelspec": {
      "display_name": "Python 3",
      "language": "python",
      "name": "python3"
    },
    "language_info": {
      "codemirror_mode": {
        "name": "ipython",
        "version": 3
      },
      "file_extension": ".py",
      "mimetype": "text/x-python",
      "name": "python",
      "nbconvert_exporter": "python",
      "pygments_lexer": "ipython3",
      "version": "3.7.1"
    }
  },
  "nbformat": 4,
  "nbformat_minor": 0
}